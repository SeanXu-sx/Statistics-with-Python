{
 "cells": [
  {
   "cell_type": "markdown",
   "metadata": {},
   "source": [
    "# Practice notebook for hypothesis tests using NHANES data\n",
    "\n",
    "This notebook will give you the opportunity to perform some hypothesis tests with the NHANES data that are similar to\n",
    "what was done in the week 3 case study notebook.\n",
    "\n",
    "You can enter your code into the cells that say \"enter your code here\", and you can type responses to the questions into the cells that say \"Type Markdown and Latex\".\n",
    "\n",
    "Note that most of the code that you will need to write below is very similar to code that appears in the case study notebook.  You will need to edit code from that notebook in small ways to adapt it to the prompts below.\n",
    "\n",
    "To get started, we will use the same module imports and read the data in the same way as we did in the case study:"
   ]
  },
  {
   "cell_type": "code",
   "execution_count": 25,
   "metadata": {},
   "outputs": [],
   "source": [
    "%matplotlib inline\n",
    "import matplotlib.pyplot as plt\n",
    "import seaborn as sns\n",
    "import pandas as pd\n",
    "import statsmodels.api as sm\n",
    "import numpy as np\n",
    "\n",
    "da = pd.read_csv(\"nhanes_2015_2016.csv\")"
   ]
  },
  {
   "cell_type": "markdown",
   "metadata": {},
   "source": [
    "## Question 1\n",
    "\n",
    "Conduct a hypothesis test (at the 0.05 level) for the null hypothesis that the proportion of women who smoke is equal to the proportion of men who smoke."
   ]
  },
  {
   "cell_type": "code",
   "execution_count": 2,
   "metadata": {},
   "outputs": [
    {
     "data": {
      "text/plain": [
       "(-13.72289574729052, 3.41806904262865e-42, 5733.0)"
      ]
     },
     "execution_count": 2,
     "metadata": {},
     "output_type": "execute_result"
    }
   ],
   "source": [
    "# insert your code here\n",
    "woman = da[da['RIAGENDR'] == 2]\n",
    "man = da[da['RIAGENDR'] == 1]\n",
    "p_woman = woman['SMQ020'].replace({2 : 0})\n",
    "p_man = man['SMQ020'].replace({2 : 0})\n",
    "sm.stats.ttest_ind(p_woman, p_man)"
   ]
  },
  {
   "cell_type": "markdown",
   "metadata": {},
   "source": [
    "__Q1a.__ Write 1-2 sentences explaining the substance of your findings to someone who does not know anything about statistical hypothesis tests."
   ]
  },
  {
   "cell_type": "markdown",
   "metadata": {},
   "source": []
  },
  {
   "cell_type": "markdown",
   "metadata": {},
   "source": [
    "__Q1b.__ Construct three 95% confidence intervals: one for the proportion of women who smoke, one for the proportion of men who smoke, and one for the difference in the rates of smoking between women and men."
   ]
  },
  {
   "cell_type": "code",
   "execution_count": 3,
   "metadata": {},
   "outputs": [
    {
     "name": "stdout",
     "output_type": "stream",
     "text": [
      "Confint for Woman: (0.2882949879861214, 0.32139545615923526)\n",
      "Confint for Man: (0.49458749263718593, 0.5319290347874418)\n"
     ]
    }
   ],
   "source": [
    "# insert your code here\n",
    "# man_mean = p_man.mean()\n",
    "# man_mean * p_man.size\n",
    "da['SMQ020x'] = da['SMQ020'].replace({1 : 'Smoker', 2 : 'Non-Smoker', 7 : np.nan, 9 : np.nan})\n",
    "da['RIAGENDRx'] = da['RIAGENDR'].replace({1 : 'Male', 2 : 'Female'})\n",
    "dx = da[['SMQ020x', 'RIAGENDRx']].dropna()\n",
    "df = pd.crosstab(dx['SMQ020x'], dx['RIAGENDRx'])\n",
    "conf_woman = sm.stats.proportion_confint(df.loc['Smoker', 'Female'], (df.loc['Smoker', 'Female'] + df.loc['Non-Smoker', 'Female']))\n",
    "conf_man = sm.stats.proportion_confint(df.loc['Smoker', 'Male'], (df.loc['Smoker', 'Male'] + df.loc['Non-Smoker', 'Male']))\n",
    "# print(\"Confint for Woman: {}\".format(conf_woman))\n",
    "print(\"Confint for Woman:\", conf_woman)\n",
    "print(\"Confint for Man:\", conf_man)\n",
    "\n"
   ]
  },
  {
   "cell_type": "code",
   "execution_count": 4,
   "metadata": {},
   "outputs": [
    {
     "data": {
      "text/plain": [
       "(0.18346247413207697, 0.2333636091471941)"
      ]
     },
     "execution_count": 4,
     "metadata": {},
     "output_type": "execute_result"
    }
   ],
   "source": [
    "da['SMQ020x'] = da['SMQ020'].replace({1 : 1, 2 : 0, 7 : np.nan, 9 : np.nan})\n",
    "dx = da[['SMQ020x', 'RIAGENDRx']].dropna()\n",
    "df = dx.groupby('RIAGENDRx')['SMQ020x'].agg([np.mean, np.size])\n",
    "p_diff = df['mean']['Male'] - df['mean']['Female']\n",
    "p_female = df['mean']['Female']\n",
    "p_male = df['mean']['Male']\n",
    "n_female = df['size']['Female']\n",
    "n_male = df['size']['Male']\n",
    "# Pooled\n",
    "se = np.sqrt(((p_female * (1 - p_female)) / n_female) + ((p_male * (1 - p_male)) / n_male))\n",
    "lcb = p_diff - 1.96 * se\n",
    "ucb = p_diff + 1.96 * se\n",
    "(lcb, ucb)"
   ]
  },
  {
   "cell_type": "markdown",
   "metadata": {},
   "source": [
    "__Q1c.__ Comment on any ways in which the confidence intervals that you found in part b reinforce, contradict, or add support to the hypothesis test conducted in part a."
   ]
  },
  {
   "cell_type": "markdown",
   "metadata": {},
   "source": []
  },
  {
   "cell_type": "markdown",
   "metadata": {},
   "source": [
    "## Question 2\n",
    "\n",
    "Partition the population into two groups based on whether a person has graduated college or not, using the educational attainment variable [DMDEDUC2](https://wwwn.cdc.gov/Nchs/Nhanes/2015-2016/DEMO_I.htm#DMDEDUC2).  Then conduct a test of the null hypothesis that the average heights (in centimeters) of the two groups are equal.  Next, convert the heights from centimeters to inches, and conduct a test of the null hypothesis that the average heights (in inches) of the two groups are equal."
   ]
  },
  {
   "cell_type": "code",
   "execution_count": 84,
   "metadata": {},
   "outputs": [
    {
     "data": {
      "text/plain": [
       "(3.5871169439733857, 0.0003343543942558159)"
      ]
     },
     "execution_count": 84,
     "metadata": {},
     "output_type": "execute_result"
    }
   ],
   "source": [
    "# insert your code here\n",
    "college = da[da['DMDEDUC2'] == 4]\n",
    "non_college = da[da['DMDEDUC2'] != 4]\n",
    "sm.stats.ztest(college['BMXHT'].dropna(), non_college['BMXHT'].dropna())"
   ]
  },
  {
   "cell_type": "markdown",
   "metadata": {},
   "source": [
    "__Q2a.__ Based on the analysis performed here, are you confident that people who graduated from college have a different average height compared to people who did not graduate from college?"
   ]
  },
  {
   "cell_type": "markdown",
   "metadata": {},
   "source": []
  },
  {
   "cell_type": "markdown",
   "metadata": {},
   "source": [
    "__Q2b:__ How do the results obtained using the heights expressed in inches compare to the results obtained using the heights expressed in centimeters?"
   ]
  },
  {
   "cell_type": "markdown",
   "metadata": {},
   "source": []
  },
  {
   "cell_type": "markdown",
   "metadata": {},
   "source": [
    "## Question 3\n",
    "\n",
    "Conduct a hypothesis test of the null hypothesis that the average BMI for men between 30 and 40 is equal to the average BMI for men between 50 and 60.  Then carry out this test again after log transforming the BMI values."
   ]
  },
  {
   "cell_type": "code",
   "execution_count": 8,
   "metadata": {},
   "outputs": [
    {
     "data": {
      "text/plain": [
       "(0.8984008016755222, 0.36897190924214873)"
      ]
     },
     "execution_count": 8,
     "metadata": {},
     "output_type": "execute_result"
    }
   ],
   "source": [
    "# insert your code here\n",
    "men = da[da['RIAGENDR'] == 1]\n",
    "men_younger = men[(men['RIDAGEYR'] >= 30) & (men['RIDAGEYR'] <= 40)]\n",
    "men_older = men[(men['RIDAGEYR'] >= 50) & (men['RIDAGEYR'] <= 60)]\n",
    "sm.stats.ztest(men_younger['BMXBMI'].dropna(), men_older['BMXBMI'].dropna())"
   ]
  },
  {
   "cell_type": "markdown",
   "metadata": {},
   "source": [
    "__Q3a.__ How would you characterize the evidence that mean BMI differs between these age bands, and how would you characterize the evidence that mean log BMI differs between these age bands?"
   ]
  },
  {
   "cell_type": "markdown",
   "metadata": {},
   "source": []
  },
  {
   "cell_type": "markdown",
   "metadata": {},
   "source": [
    "## Question 4\n",
    "\n",
    "Suppose we wish to compare the mean BMI between college graduates and people who have not graduated from college, focusing on women between the ages of 30 and 40.  First, consider the variance of BMI within each of these subpopulations using graphical techniques, and through the estimated subpopulation variances.  Then, calculate pooled and unpooled estimates of the standard error for the difference between the mean BMI in the two populations being compared.  Finally, test the null hypothesis that the two population means are equal, using each of the two different standard errors."
   ]
  },
  {
   "cell_type": "code",
   "execution_count": 59,
   "metadata": {},
   "outputs": [
    {
     "data": {
      "image/png": "[encoded data removed]",
      "text/plain": [
       "<Figure size 432x288 with 1 Axes>"
      ]
     },
     "metadata": {},
     "output_type": "display_data"
    }
   ],
   "source": [
    "# insert your code here\n",
    "import matplotlib.pyplot as plt\n",
    "\n",
    "da.columns\n",
    "woman = da[da['RIAGENDR'] == 2]\n",
    "woman = woman[(woman['RIDAGEYR'] >= 30) & (woman['RIDAGEYR'] <= 40)]\n",
    "grad = woman[woman['DMDEDUC2'] == 5]\n",
    "non_grad = woman[woman['DMDEDUC2'] != 5]\n",
    "_ = plt.boxplot([grad['BMXBMI'].dropna(), non_grad['BMXBMI'].dropna()])\n",
    "# xtick = ['Graduate', 'Non-Grad']\n",
    "_ = plt.xticks(range(1,3), ['Graduate', 'Non-Grad'])\n"
   ]
  },
  {
   "cell_type": "code",
   "execution_count": 61,
   "metadata": {},
   "outputs": [
    {
     "data": {
      "text/plain": [
       "<matplotlib.axes._subplots.AxesSubplot at 0x7f9bd87524a8>"
      ]
     },
     "execution_count": 61,
     "metadata": {},
     "output_type": "execute_result"
    },
    {
     "data": {
      "image/png": "[encoded data removed]",
      "text/plain": [
       "<Figure size 432x288 with 1 Axes>"
      ]
     },
     "metadata": {},
     "output_type": "display_data"
    }
   ],
   "source": [
    "# Alternatives\n",
    "woman['DMDEDUC2x'] = woman['DMDEDUC2'].replace({5 : 'Graduate', 1 : 'Non_Grad', 2 : 'Non_Grad', 3 : 'Non_Grad',\n",
    "                                                4 : 'Non_Grad', 7 : 'Non_Grad', 9 : 'Non_Grad'})\n",
    "sns.boxplot(woman['BMXBMI'], woman['DMDEDUC2x'])\n"
   ]
  },
  {
   "cell_type": "code",
   "execution_count": 76,
   "metadata": {},
   "outputs": [
    {
     "name": "stdout",
     "output_type": "stream",
     "text": [
      "Pooled: (-4.680469119058692, 2.8621922359615973e-06)\n",
      "Unpooled: (-4.870195947251033, 1.1148763399546158e-06)\n"
     ]
    }
   ],
   "source": [
    "import scipy.stats.distributions as dist\n",
    "from scipy.stats import t\n",
    "\n",
    "df = woman.groupby('DMDEDUC2x')['BMXBMI'].agg([np.mean, np.std, np.size])\n",
    "mean_diff = df['mean']['Graduate'] - df['mean']['Non_Grad']\n",
    "\n",
    "# Pooled:\n",
    "n_grad = df['size']['Graduate']\n",
    "n_non_grad = df['size']['Non_Grad']\n",
    "std_grad = df['std']['Graduate']\n",
    "std_non_grad = df['std']['Non_Grad']\n",
    "\n",
    "se = np.sqrt(((n_grad - 1) * (std_grad ** 2) + (n_non_grad - 1) * (std_non_grad ** 2)) / (n_grad + n_non_grad - 2)) * np.sqrt((1 / n_grad) + (1 / n_non_grad))\n",
    "\n",
    "z_val = mean_diff / se\n",
    "p_val = 2 * dist.norm.cdf(-np.abs(z_val))\n",
    "print(\"Pooled:\", (z_val, p_val))\n",
    "\n",
    "# Unpooled:\n",
    "\n",
    "se = np.sqrt(((std_grad ** 2) / n_grad) + ((std_non_grad ** 2) / n_non_grad))\n",
    "\n",
    "z_val = mean_diff / se\n",
    "p_val = 2 * dist.norm.cdf(-np.abs(z_val))\n",
    "print(\"Unpooled:\", (z_val, p_val))\n",
    "\n"
   ]
  },
  {
   "cell_type": "code",
   "execution_count": 60,
   "metadata": {},
   "outputs": [
    {
     "name": "stdout",
     "output_type": "stream",
     "text": [
      "Pooled: (-4.643908450956424, 3.4187910067116893e-06)\n",
      "Unpooled: (-4.833662355599101, 1.340438616920389e-06)\n"
     ]
    }
   ],
   "source": [
    "grad = sm.stats.DescrStatsW(grad['BMXBMI'].dropna())\n",
    "non_grad = sm.stats.DescrStatsW(non_grad['BMXBMI'].dropna())\n",
    "\n",
    "print(\"Pooled:\", sm.stats.CompareMeans(grad, non_grad).ztest_ind(usevar = 'pooled'))\n",
    "print(\"Unpooled:\", sm.stats.CompareMeans(grad, non_grad).ztest_ind(usevar = 'unequal'))"
   ]
  },
  {
   "cell_type": "markdown",
   "metadata": {},
   "source": [
    "__Q4a.__ Comment on the strength of evidence against the null hypothesis that these two populations have equal mean BMI."
   ]
  },
  {
   "cell_type": "markdown",
   "metadata": {},
   "source": []
  },
  {
   "cell_type": "markdown",
   "metadata": {},
   "source": [
    "__Q4b.__ Comment on the degree to which the two populations have different variances, and on the extent to which the results using different approaches to estimating the standard error of the mean difference give divergent results."
   ]
  },
  {
   "cell_type": "markdown",
   "metadata": {},
   "source": []
  },
  {
   "cell_type": "markdown",
   "metadata": {},
   "source": [
    "## Question 5\n",
    "\n",
    "Conduct a test of the null hypothesis that the first and second diastolic blood pressure measurements within a subject have the same mean values."
   ]
  },
  {
   "cell_type": "code",
   "execution_count": 102,
   "metadata": {},
   "outputs": [
    {
     "data": {
      "text/plain": [
       "(4.140387087476751, 3.467202439743513e-05)"
      ]
     },
     "execution_count": 102,
     "metadata": {},
     "output_type": "execute_result"
    }
   ],
   "source": [
    "# insert your code here\n",
    "first = da['BPXDI1'].dropna()\n",
    "second = da['BPXDI2'].dropna()\n",
    "diff = first - second\n",
    "sm.stats.ztest(diff.dropna(), value = 0)"
   ]
  },
  {
   "cell_type": "markdown",
   "metadata": {},
   "source": [
    "__Q5a.__ Briefly describe your findings for an audience that is not familiar with statistical hypothesis testing."
   ]
  },
  {
   "cell_type": "markdown",
   "metadata": {},
   "source": []
  },
  {
   "cell_type": "markdown",
   "metadata": {},
   "source": [
    "__Q5b.__ Pretend that the first and second diastolic blood pressure measurements were taken on different people.  Modfify the analysis above as appropriate for this setting."
   ]
  },
  {
   "cell_type": "code",
   "execution_count": 90,
   "metadata": {},
   "outputs": [
    {
     "data": {
      "text/plain": [
       "(0.6848982193746492, 0.49340814971248503)"
      ]
     },
     "execution_count": 90,
     "metadata": {},
     "output_type": "execute_result"
    }
   ],
   "source": [
    "# insert your code here\n",
    "sm.stats.ztest(da['BPXDI1'].dropna(), da['BPXDI2'].dropna())"
   ]
  },
  {
   "cell_type": "markdown",
   "metadata": {},
   "source": [
    "__Q5c.__ Briefly describe how the approaches used and the results obtained in the preceeding two parts of the question differ."
   ]
  },
  {
   "cell_type": "markdown",
   "metadata": {},
   "source": []
  }
 ],
 "metadata": {
  "kernelspec": {
   "display_name": "Python 3",
   "language": "python",
   "name": "python3"
  },
  "language_info": {
   "codemirror_mode": {
    "name": "ipython",
    "version": 3
   },
   "file_extension": ".py",
   "mimetype": "text/x-python",
   "name": "python",
   "nbconvert_exporter": "python",
   "pygments_lexer": "ipython3",
   "version": "3.6.3"
  }
 },
 "nbformat": 4,
 "nbformat_minor": 2
}
