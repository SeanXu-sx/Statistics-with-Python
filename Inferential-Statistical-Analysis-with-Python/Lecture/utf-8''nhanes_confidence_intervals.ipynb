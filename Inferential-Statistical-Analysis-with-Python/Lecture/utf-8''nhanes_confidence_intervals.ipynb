{
 "cells": [
  {
   "cell_type": "markdown",
   "metadata": {},
   "source": [
    "# Confidence intervals case study using NHANES data\n",
    "\n",
    "\n",
    "This notebook demonstrates how to use Python and its statistical libraries to construct confidence intervals for proportions and means.  We will also cover some important points relating to the properties of confidence intervals, and discuss how to use and interpret confidence intervals in practice.  We will use the 2015-2016 wave of the [NHANES](https://www.cdc.gov/nchs/nhanes/index.htm) data for all the analyses below.\n",
    "\n",
    "It is important to note that the NHANES data are a \"complex survey\".  The data are not an independent and representative sample from the target population.  Proper analysis of complex survey data should make use of additional information about the manner in which the data were collected.  Since complex survey analysis is a somewhat specialized topic, we ignore this aspect of the data here, and analyze the NHANES data as if it were an independent and identically distributed sample from a population.\n",
    "\n",
    "The following module import statements and data reading statement are identical to what we have used previously in course 1."
   ]
  },
  {
   "cell_type": "code",
   "execution_count": 1,
   "metadata": {},
   "outputs": [],
   "source": [
    "%matplotlib inline\n",
    "import matplotlib.pyplot as plt\n",
    "import pandas as pd\n",
    "import numpy as np\n",
    "import seaborn as sns\n",
    "import statsmodels.api as sm"
   ]
  },
  {
   "cell_type": "markdown",
   "metadata": {},
   "source": [
    "We can now read the data into Python using the [read_csv](https://pandas.pydata.org/pandas-docs/stable/generated/pandas.read_csv.html) function:"
   ]
  },
  {
   "cell_type": "code",
   "execution_count": 2,
   "metadata": {},
   "outputs": [],
   "source": [
    "da = pd.read_csv(\"nhanes_2015_2016.csv\")"
   ]
  },
  {
   "cell_type": "markdown",
   "metadata": {},
   "source": [
    "## Confidence intervals for one proportion\n",
    "\n",
    "In this section, we demonstrate the construction of confidence intervals for the proportion of people who smoke.  The specific definition of \"smoker\" used here ([SMQ020](https://wwwn.cdc.gov/Nchs/Nhanes/2015-2016/SMQ_I.htm#SMQ020)) identifies a person as being a smoker if they self-report as having smoked 100 or more cigarettes in their lifetime.  It is more accurate to refer to this as a measure of \"lifetime smoking\" rather than \"current smoking\".  Recall that the definitions of these and other NHANES variables can be found using the NHANES code books, or by searching using the link below.\n",
    "\n",
    "https://wwwn.cdc.gov/nchs/nhanes/search/default.aspx\n",
    "\n",
    "We will calculate the proportions of smokers separately for females and for males.  Initially we can compare these two proportions and their corresponding confidence intervals informally, but later we will discuss methods to compare two proportions formally using confidence intervals.\n",
    "\n",
    "First we replace the numeric codes in the variables of interest with text labels, and set the rare answers other than \"yes\" and \"no\" to be missing (so they will automatically be omitted from all the analyses below)."
   ]
  },
  {
   "cell_type": "code",
   "execution_count": 3,
   "metadata": {},
   "outputs": [],
   "source": [
    "da[\"SMQ020x\"] = da.SMQ020.replace({1: \"Yes\", 2: \"No\", 7: np.nan, 9: np.nan})  # np.nan represents a missing value\n",
    "da[\"RIAGENDRx\"] = da.RIAGENDR.replace({1: \"Male\", 2: \"Female\"})"
   ]
  },
  {
   "cell_type": "markdown",
   "metadata": {},
   "source": [
    "We can now [tabulate](https://pandas.pydata.org/pandas-docs/stable/generated/pandas.crosstab.html) the numbers of female and male smokers and non-smokers:"
   ]
  },
  {
   "cell_type": "code",
   "execution_count": 4,
   "metadata": {},
   "outputs": [
    {
     "data": {
      "text/html": [
       "<div>\n",
       "<style scoped>\n",
       "    .dataframe tbody tr th:only-of-type {\n",
       "        vertical-align: middle;\n",
       "    }\n",
       "\n",
       "    .dataframe tbody tr th {\n",
       "        vertical-align: top;\n",
       "    }\n",
       "\n",
       "    .dataframe thead th {\n",
       "        text-align: right;\n",
       "    }\n",
       "</style>\n",
       "<table border=\"1\" class=\"dataframe\">\n",
       "  <thead>\n",
       "    <tr style=\"text-align: right;\">\n",
       "      <th>RIAGENDRx</th>\n",
       "      <th>Female</th>\n",
       "      <th>Male</th>\n",
       "    </tr>\n",
       "    <tr>\n",
       "      <th>SMQ020x</th>\n",
       "      <th></th>\n",
       "      <th></th>\n",
       "    </tr>\n",
       "  </thead>\n",
       "  <tbody>\n",
       "    <tr>\n",
       "      <th>No</th>\n",
       "      <td>2066</td>\n",
       "      <td>1340</td>\n",
       "    </tr>\n",
       "    <tr>\n",
       "      <th>Yes</th>\n",
       "      <td>906</td>\n",
       "      <td>1413</td>\n",
       "    </tr>\n",
       "  </tbody>\n",
       "</table>\n",
       "</div>"
      ],
      "text/plain": [
       "RIAGENDRx  Female  Male\n",
       "SMQ020x                \n",
       "No           2066  1340\n",
       "Yes           906  1413"
      ]
     },
     "execution_count": 4,
     "metadata": {},
     "output_type": "execute_result"
    }
   ],
   "source": [
    "dx = da[[\"SMQ020x\", \"RIAGENDRx\"]].dropna()  # dropna drops cases where either variable is missing\n",
    "pd.crosstab(dx.SMQ020x, dx.RIAGENDRx)"
   ]
  },
  {
   "cell_type": "markdown",
   "metadata": {},
   "source": [
    "The confidence interval (CI) is constructed using two inputs: the sample proportion of smokers, and the total sample size for smokers and non-smokers combined.  We calculate these values next."
   ]
  },
  {
   "cell_type": "code",
   "execution_count": 5,
   "metadata": {},
   "outputs": [
    {
     "data": {
      "text/html": [
       "<div>\n",
       "<style scoped>\n",
       "    .dataframe tbody tr th:only-of-type {\n",
       "        vertical-align: middle;\n",
       "    }\n",
       "\n",
       "    .dataframe tbody tr th {\n",
       "        vertical-align: top;\n",
       "    }\n",
       "\n",
       "    .dataframe thead th {\n",
       "        text-align: right;\n",
       "    }\n",
       "</style>\n",
       "<table border=\"1\" class=\"dataframe\">\n",
       "  <thead>\n",
       "    <tr style=\"text-align: right;\">\n",
       "      <th></th>\n",
       "      <th>Proportion</th>\n",
       "      <th>Total_n</th>\n",
       "    </tr>\n",
       "    <tr>\n",
       "      <th>RIAGENDRx</th>\n",
       "      <th></th>\n",
       "      <th></th>\n",
       "    </tr>\n",
       "  </thead>\n",
       "  <tbody>\n",
       "    <tr>\n",
       "      <th>Female</th>\n",
       "      <td>0.304845</td>\n",
       "      <td>2972</td>\n",
       "    </tr>\n",
       "    <tr>\n",
       "      <th>Male</th>\n",
       "      <td>0.513258</td>\n",
       "      <td>2753</td>\n",
       "    </tr>\n",
       "  </tbody>\n",
       "</table>\n",
       "</div>"
      ],
      "text/plain": [
       "           Proportion  Total_n\n",
       "RIAGENDRx                     \n",
       "Female       0.304845     2972\n",
       "Male         0.513258     2753"
      ]
     },
     "execution_count": 5,
     "metadata": {},
     "output_type": "execute_result"
    }
   ],
   "source": [
    "dz = dx.groupby(dx.RIAGENDRx).agg({\"SMQ020x\": [lambda x: np.mean(x==\"Yes\"), np.size]})\n",
    "dz.columns = [\"Proportion\", \"Total_n\"] # The default column names are unclear, so we replace them here\n",
    "dz"
   ]
  },
  {
   "cell_type": "markdown",
   "metadata": {},
   "source": [
    "Confidence intervals are closely connected to standard errors.  Recall that the standard error essentially tells you how\n",
    "far you should expect an estimate to fall from the truth.  A confidence interval is an interval that under repeated sampling covers the truth a defined proportion of the time.  In most settings, this \"coverage probability\" is set to 95%.  \n",
    "\n",
    "It turns out that in many settings, a 95% confidence interval can be constructed as the interval consisting of all points that are within two (or 1.96) standard errors of the point estimate.  More concisely, the confidence interval approximately spans from e - 2•SE to e + 2•SE, where e is the point estimate and SE is the standard error.\n",
    "\n",
    "Since the standard error plays such an important role here, we calculate it separately first."
   ]
  },
  {
   "cell_type": "code",
   "execution_count": 6,
   "metadata": {},
   "outputs": [
    {
     "name": "stdout",
     "output_type": "stream",
     "text": [
      "0.008444152146214435\n",
      "0.009526078653689868\n"
     ]
    }
   ],
   "source": [
    "p = dz.Proportion.Female # Female proportion\n",
    "n = dz.Total_n.Female # Total number of females\n",
    "se_female = np.sqrt(p * (1 - p) / n)\n",
    "print(se_female)\n",
    "\n",
    "p = dz.Proportion.Male # Male proportion\n",
    "n = dz[\"Total_n\"].Male # Total number of males\n",
    "se_male = np.sqrt(p * (1 - p) / n)\n",
    "print(se_male)"
   ]
  },
  {
   "cell_type": "markdown",
   "metadata": {},
   "source": [
    "We can see that the standard errors for the estimated proportions of females and males who smoke are similar, and are each around 1% (since we are studying a proportion here, 0.01 corresponds to a 1 percentage point change in the smoking rate).  \n",
    "\n",
    "The standard error for a proportion is maximized when the true proportion is around 1/2, and gets smaller as the true proportion approaches either 0 or 1.  The estimated male smoking proportion is closer to 1/2 than the estimated female smoking proportion, and the male sample size is smaller than the female sample size.  Both of these factors lead to the male standard error being larger than the female standard error, although the difference is very small in this case.\n",
    "\n",
    "Next we calculate the 95% confidence intervals for the proportions of female and male smokers using the formula for the one-sample confidence interval for a proportion:"
   ]
  },
  {
   "cell_type": "code",
   "execution_count": 7,
   "metadata": {},
   "outputs": [
    {
     "name": "stdout",
     "output_type": "stream",
     "text": [
      "0.288294683866098 0.32139576027925865\n"
     ]
    }
   ],
   "source": [
    "p = dz.Proportion.Female # Female proportion\n",
    "n = dz.Total_n.Female # Total number of females\n",
    "lcb = p - 1.96 * np.sqrt(p * (1 - p) / n)  \n",
    "ucb = p + 1.96 * np.sqrt(p * (1 - p) / n)  \n",
    "print(lcb, ucb)"
   ]
  },
  {
   "cell_type": "markdown",
   "metadata": {},
   "source": [
    "The results above indicate that any population proportion (for female lifetime smokers) between 0.288 and 0.321 would be compatible with the data that we observed in NHANES."
   ]
  },
  {
   "cell_type": "code",
   "execution_count": 8,
   "metadata": {},
   "outputs": [
    {
     "name": "stdout",
     "output_type": "stream",
     "text": [
      "0.49458714955108174 0.531929377873546\n"
     ]
    }
   ],
   "source": [
    "p = dz.Proportion.Male # Male proportion\n",
    "n = dz.Total_n.Male # Total number of males\n",
    "lcb = p - 1.96 * np.sqrt(p * (1 - p) / n)  \n",
    "ucb = p + 1.96 * np.sqrt(p * (1 - p) / n)  \n",
    "print(lcb, ucb)"
   ]
  },
  {
   "cell_type": "markdown",
   "metadata": {},
   "source": [
    "These results indicate that any population proportion (for male lifetime smokers) between 0.493 and 0.531 would be compatible with the NHANES data."
   ]
  },
  {
   "cell_type": "markdown",
   "metadata": {},
   "source": [
    "In a routine data analysis, we do not need to calculate these intervals manually.  We can use the Statsmodels library to calculate the CI for us in one line:"
   ]
  },
  {
   "cell_type": "code",
   "execution_count": 9,
   "metadata": {},
   "outputs": [
    {
     "data": {
      "text/plain": [
       "(0.2882949879861214, 0.32139545615923526)"
      ]
     },
     "execution_count": 9,
     "metadata": {},
     "output_type": "execute_result"
    }
   ],
   "source": [
    "# 95% CI for the proportion of females who smoke (compare to value above)\n",
    "sm.stats.proportion_confint(906, 906+2066)  "
   ]
  },
  {
   "cell_type": "code",
   "execution_count": 10,
   "metadata": {},
   "outputs": [
    {
     "data": {
      "text/plain": [
       "(0.49458749263718593, 0.5319290347874418)"
      ]
     },
     "execution_count": 10,
     "metadata": {},
     "output_type": "execute_result"
    }
   ],
   "source": [
    "# 95% CI for the proportion of males who smoke (compare to value above)\n",
    "sm.stats.proportion_confint(1413, 1413+1340)  "
   ]
  },
  {
   "cell_type": "markdown",
   "metadata": {},
   "source": [
    "## Confidence intervals comparing two independent proportions"
   ]
  },
  {
   "cell_type": "markdown",
   "metadata": {
    "collapsed": true
   },
   "source": [
    "The confidence intervals for the proportions of female and male smokers shown above are quite narrow and do not overlap.  This suggests that there is a substantial difference between the lifetime smoking rates for women and men. However there is no explicit information here about how different the two population proportions might be.  To address this question, we can form a confidence interval for the difference between the proportion of females who smoke and the proportion of males who smoke.  \n",
    "\n",
    "The point estimate of the difference between female and male smoking rates is -0.208 (0.305 - 0.513).  That is, the smoking rate is about 20 percentage points higher in men than in women.  This difference of around 20 percentage points is only a point estimate of the underlying true value -- it is not exactly equal to the difference between the unknown proportions of females and males who smoke in the population.  A confidence interval helps us assess how far the estimated difference may be from the true difference.\n",
    "\n",
    "As above, we start with the standard error.  The difference between two sample proportions based on independent data has a standard error that reflects the combined uncertainty in the two proportions being differenced.  This standard error can be calculated very easily.  If SE1 and SE2 are the standard errors for two proportions, then sqrt(SE1^2 + SE2^2) is the standard error for the difference of these proportions (`sqrt` is the square root function).  Note that this formula is only accurate if the two sample proportions being differenced are independent.\n",
    "\n",
    "In the next cell we calculate the standard error for the difference between the proprotion of females who smoke and the proportion of males who smoke."
   ]
  },
  {
   "cell_type": "code",
   "execution_count": 11,
   "metadata": {},
   "outputs": [
    {
     "data": {
      "text/plain": [
       "0.012729881381407434"
      ]
     },
     "execution_count": 11,
     "metadata": {},
     "output_type": "execute_result"
    }
   ],
   "source": [
    "se_diff = np.sqrt(se_female**2 + se_male**2)\n",
    "se_diff"
   ]
  },
  {
   "cell_type": "markdown",
   "metadata": {},
   "source": [
    "The standard error of around 0.013 indicates that the estimated difference statistic -0.208 is expected to fall around 0.013 units from the true value.  We do not know in which direction the error lies, and we do not know that the error is exactly 0.013, only that it is around this large on average.  For most purposes, a standard error of 0.013 relative to an observed difference of -0.21 would be considered very small.  That is, we have a very accurate estimate of the difference between smoking rates in women and in men.\n",
    "\n",
    "Now that we have the standard error, we can construct a 95% confidence interval for the difference in proportions by taking the estimate and subtracting and adding two (or 1.96) standard errors from it."
   ]
  },
  {
   "cell_type": "code",
   "execution_count": 12,
   "metadata": {},
   "outputs": [
    {
     "name": "stdout",
     "output_type": "stream",
     "text": [
      "-0.2338728044024504 -0.18295327887682067\n"
     ]
    }
   ],
   "source": [
    "d = dz.Proportion.Female - dz.Proportion.Male\n",
    "lcb = d - 2*se_diff\n",
    "ucb = d + 2*se_diff\n",
    "print(lcb, ucb)\n",
    "# print(d1, d)"
   ]
  },
  {
   "cell_type": "markdown",
   "metadata": {},
   "source": [
    "The 95% confidence interval above shows us that any value for the difference of population proportions (between females and males) lying between -0.233 and -0.183 is consistent with the observed data."
   ]
  },
  {
   "cell_type": "markdown",
   "metadata": {},
   "source": [
    "### Confidence intervals for subpopulations\n",
    "\n",
    "Since smoking rates vary strongly with age, it might be more informative to stratify the data into homogeneous age bands and compare the proportions of female and male smokers within each age band.  We can also calculate the 95% confidence interval for this difference within each age band.  These data can be displayed as a plot, with the difference in proportions plotted as a curve.  The confidence intervals can then be used to construct a \"confidence band\" around the estimates."
   ]
  },
  {
   "cell_type": "code",
   "execution_count": 13,
   "metadata": {},
   "outputs": [
    {
     "data": {
      "text/html": [
       "<div>\n",
       "<style scoped>\n",
       "    .dataframe tbody tr th:only-of-type {\n",
       "        vertical-align: middle;\n",
       "    }\n",
       "\n",
       "    .dataframe tbody tr th {\n",
       "        vertical-align: top;\n",
       "    }\n",
       "\n",
       "    .dataframe thead th {\n",
       "        text-align: right;\n",
       "    }\n",
       "</style>\n",
       "<table border=\"1\" class=\"dataframe\">\n",
       "  <thead>\n",
       "    <tr style=\"text-align: right;\">\n",
       "      <th></th>\n",
       "      <th>Female</th>\n",
       "      <th>Male</th>\n",
       "    </tr>\n",
       "    <tr>\n",
       "      <th>agegrp</th>\n",
       "      <th></th>\n",
       "      <th></th>\n",
       "    </tr>\n",
       "  </thead>\n",
       "  <tbody>\n",
       "    <tr>\n",
       "      <th>(18, 30]</th>\n",
       "      <td>0.226601</td>\n",
       "      <td>0.349265</td>\n",
       "    </tr>\n",
       "    <tr>\n",
       "      <th>(30, 40]</th>\n",
       "      <td>0.286920</td>\n",
       "      <td>0.502183</td>\n",
       "    </tr>\n",
       "    <tr>\n",
       "      <th>(40, 50]</th>\n",
       "      <td>0.268924</td>\n",
       "      <td>0.448878</td>\n",
       "    </tr>\n",
       "    <tr>\n",
       "      <th>(50, 60]</th>\n",
       "      <td>0.421277</td>\n",
       "      <td>0.572687</td>\n",
       "    </tr>\n",
       "    <tr>\n",
       "      <th>(60, 70]</th>\n",
       "      <td>0.374150</td>\n",
       "      <td>0.654462</td>\n",
       "    </tr>\n",
       "    <tr>\n",
       "      <th>(70, 80]</th>\n",
       "      <td>0.324390</td>\n",
       "      <td>0.649254</td>\n",
       "    </tr>\n",
       "  </tbody>\n",
       "</table>\n",
       "</div>"
      ],
      "text/plain": [
       "            Female      Male\n",
       "agegrp                      \n",
       "(18, 30]  0.226601  0.349265\n",
       "(30, 40]  0.286920  0.502183\n",
       "(40, 50]  0.268924  0.448878\n",
       "(50, 60]  0.421277  0.572687\n",
       "(60, 70]  0.374150  0.654462\n",
       "(70, 80]  0.324390  0.649254"
      ]
     },
     "execution_count": 13,
     "metadata": {},
     "output_type": "execute_result"
    }
   ],
   "source": [
    "# Calculate the smoking rates within age/gender groups\n",
    "da[\"agegrp\"] = pd.cut(da.RIDAGEYR, [18, 30, 40, 50, 60, 70, 80])\n",
    "pr = da.groupby([\"agegrp\", \"RIAGENDRx\"]).agg({\"SMQ020x\": lambda x: np.mean(x==\"Yes\")}).unstack()\n",
    "pr.columns = [\"Female\", \"Male\"]\n",
    "pr"
   ]
  },
  {
   "cell_type": "code",
   "execution_count": 14,
   "metadata": {},
   "outputs": [
    {
     "data": {
      "text/html": [
       "<div>\n",
       "<style scoped>\n",
       "    .dataframe tbody tr th:only-of-type {\n",
       "        vertical-align: middle;\n",
       "    }\n",
       "\n",
       "    .dataframe tbody tr th {\n",
       "        vertical-align: top;\n",
       "    }\n",
       "\n",
       "    .dataframe thead th {\n",
       "        text-align: right;\n",
       "    }\n",
       "</style>\n",
       "<table border=\"1\" class=\"dataframe\">\n",
       "  <thead>\n",
       "    <tr style=\"text-align: right;\">\n",
       "      <th></th>\n",
       "      <th>Female</th>\n",
       "      <th>Male</th>\n",
       "    </tr>\n",
       "    <tr>\n",
       "      <th>agegrp</th>\n",
       "      <th></th>\n",
       "      <th></th>\n",
       "    </tr>\n",
       "  </thead>\n",
       "  <tbody>\n",
       "    <tr>\n",
       "      <th>(18, 30]</th>\n",
       "      <td>609</td>\n",
       "      <td>544</td>\n",
       "    </tr>\n",
       "    <tr>\n",
       "      <th>(30, 40]</th>\n",
       "      <td>474</td>\n",
       "      <td>458</td>\n",
       "    </tr>\n",
       "    <tr>\n",
       "      <th>(40, 50]</th>\n",
       "      <td>502</td>\n",
       "      <td>401</td>\n",
       "    </tr>\n",
       "    <tr>\n",
       "      <th>(50, 60]</th>\n",
       "      <td>470</td>\n",
       "      <td>454</td>\n",
       "    </tr>\n",
       "    <tr>\n",
       "      <th>(60, 70]</th>\n",
       "      <td>441</td>\n",
       "      <td>437</td>\n",
       "    </tr>\n",
       "    <tr>\n",
       "      <th>(70, 80]</th>\n",
       "      <td>410</td>\n",
       "      <td>402</td>\n",
       "    </tr>\n",
       "  </tbody>\n",
       "</table>\n",
       "</div>"
      ],
      "text/plain": [
       "          Female  Male\n",
       "agegrp                \n",
       "(18, 30]     609   544\n",
       "(30, 40]     474   458\n",
       "(40, 50]     502   401\n",
       "(50, 60]     470   454\n",
       "(60, 70]     441   437\n",
       "(70, 80]     410   402"
      ]
     },
     "execution_count": 14,
     "metadata": {},
     "output_type": "execute_result"
    }
   ],
   "source": [
    "# The number of people for each calculated proportion\n",
    "dn = da.groupby([\"agegrp\", \"RIAGENDRx\"]).agg({\"SMQ020x\": np.size}).unstack()\n",
    "dn.columns = [\"Female\", \"Male\"]\n",
    "dn"
   ]
  },
  {
   "cell_type": "code",
   "execution_count": 15,
   "metadata": {},
   "outputs": [
    {
     "data": {
      "text/html": [
       "<div>\n",
       "<style scoped>\n",
       "    .dataframe tbody tr th:only-of-type {\n",
       "        vertical-align: middle;\n",
       "    }\n",
       "\n",
       "    .dataframe tbody tr th {\n",
       "        vertical-align: top;\n",
       "    }\n",
       "\n",
       "    .dataframe thead th {\n",
       "        text-align: right;\n",
       "    }\n",
       "</style>\n",
       "<table border=\"1\" class=\"dataframe\">\n",
       "  <thead>\n",
       "    <tr style=\"text-align: right;\">\n",
       "      <th></th>\n",
       "      <th>Female</th>\n",
       "      <th>Male</th>\n",
       "    </tr>\n",
       "    <tr>\n",
       "      <th>agegrp</th>\n",
       "      <th></th>\n",
       "      <th></th>\n",
       "    </tr>\n",
       "  </thead>\n",
       "  <tbody>\n",
       "    <tr>\n",
       "      <th>(18, 30]</th>\n",
       "      <td>0.016964</td>\n",
       "      <td>0.020440</td>\n",
       "    </tr>\n",
       "    <tr>\n",
       "      <th>(30, 40]</th>\n",
       "      <td>0.020776</td>\n",
       "      <td>0.023363</td>\n",
       "    </tr>\n",
       "    <tr>\n",
       "      <th>(40, 50]</th>\n",
       "      <td>0.019790</td>\n",
       "      <td>0.024838</td>\n",
       "    </tr>\n",
       "    <tr>\n",
       "      <th>(50, 60]</th>\n",
       "      <td>0.022776</td>\n",
       "      <td>0.023217</td>\n",
       "    </tr>\n",
       "    <tr>\n",
       "      <th>(60, 70]</th>\n",
       "      <td>0.023043</td>\n",
       "      <td>0.022748</td>\n",
       "    </tr>\n",
       "    <tr>\n",
       "      <th>(70, 80]</th>\n",
       "      <td>0.023120</td>\n",
       "      <td>0.023801</td>\n",
       "    </tr>\n",
       "  </tbody>\n",
       "</table>\n",
       "</div>"
      ],
      "text/plain": [
       "            Female      Male\n",
       "agegrp                      \n",
       "(18, 30]  0.016964  0.020440\n",
       "(30, 40]  0.020776  0.023363\n",
       "(40, 50]  0.019790  0.024838\n",
       "(50, 60]  0.022776  0.023217\n",
       "(60, 70]  0.023043  0.022748\n",
       "(70, 80]  0.023120  0.023801"
      ]
     },
     "execution_count": 15,
     "metadata": {},
     "output_type": "execute_result"
    }
   ],
   "source": [
    "# Standard errors for each proportion\n",
    "se = np.sqrt(pr * (1 - pr) / dn)\n",
    "se"
   ]
  },
  {
   "cell_type": "code",
   "execution_count": 16,
   "metadata": {},
   "outputs": [
    {
     "data": {
      "text/plain": [
       "agegrp\n",
       "(18, 30]    0.026562\n",
       "(30, 40]    0.031265\n",
       "(40, 50]    0.031758\n",
       "(50, 60]    0.032523\n",
       "(60, 70]    0.032380\n",
       "(70, 80]    0.033182\n",
       "dtype: float64"
      ]
     },
     "execution_count": 16,
     "metadata": {},
     "output_type": "execute_result"
    }
   ],
   "source": [
    "# Standard error for the difference in female/male smoking rates in every age band\n",
    "se_diff = np.sqrt(se.Female**2 + se.Male**2)\n",
    "se_diff"
   ]
  },
  {
   "cell_type": "code",
   "execution_count": 17,
   "metadata": {},
   "outputs": [
    {
     "data": {
      "text/plain": [
       "agegrp\n",
       "(18, 30]   -0.122664\n",
       "(30, 40]   -0.215264\n",
       "(40, 50]   -0.179954\n",
       "(50, 60]   -0.151411\n",
       "(60, 70]   -0.280313\n",
       "(70, 80]   -0.324863\n",
       "dtype: float64"
      ]
     },
     "execution_count": 17,
     "metadata": {},
     "output_type": "execute_result"
    }
   ],
   "source": [
    "# Standard errors for the difference in smoking rates between genders, within age bands\n",
    "\n",
    "# The difference in smoking rates between genders\n",
    "pq = pr.Female - pr.Male\n",
    "pq"
   ]
  },
  {
   "cell_type": "code",
   "execution_count": 18,
   "metadata": {},
   "outputs": [
    {
     "data": {
      "text/plain": [
       "Text(0,0.5,'Female - male smoking proportion')"
      ]
     },
     "execution_count": 18,
     "metadata": {},
     "output_type": "execute_result"
    },
    {
     "data": {
      "image/png": "[encoded data removed]",
      "text/plain": [
       "<Figure size 432x288 with 1 Axes>"
      ]
     },
     "metadata": {},
     "output_type": "display_data"
    }
   ],
   "source": [
    "x = np.arange(pq.size)\n",
    "pp = sns.pointplot(x, pq.values, color='black')\n",
    "sns.pointplot(x, pq - 2*se_diff)\n",
    "sns.pointplot(x, pq + 2*se_diff)\n",
    "pp.set_xticklabels(pq.index)\n",
    "pp.set_xlabel(\"Age group\")\n",
    "pp.set_ylabel(\"Female - male smoking proportion\")\n",
    "# Alternatives:\n",
    "# x = np.arange(pq.size)\n",
    "# plt.plot(x, pq.values, '-o', color='black')\n",
    "# plt.plot(x, pq - 2*se_diff, '-o')\n",
    "# plt.plot(x, pq + 2*se_diff, '-o')\n",
    "# _ = plt.xticks(range(0,6), pq.index)"
   ]
  },
  {
   "cell_type": "code",
   "execution_count": null,
   "metadata": {},
   "outputs": [],
   "source": []
  },
  {
   "cell_type": "markdown",
   "metadata": {},
   "source": [
    "The plot above shows for each age band, the point estimate of the difference in smoking rates between genders (black dot), and the lower and upper end points of the 95% confidence interval (blue points).  Based on this plot, we see that in the United States, smoking is more common in men than in women, not just overall, but also in every one of the age bands.  The difference is largest for older people -- for people older than 60, the smoking rate for males is around 30 percentage points greater than the smoking rate for females, while for people younger than 30, the smoking rate for males is only around 15 percentage points greater than the smoking rate for females.\n",
    "\n",
    "Also note that the 95% confidence bands shown above are much wider than the 95% confidence intervals for the data that were not stratified by age.  Stratifying by age leads to smaller sample sizes, which in turn results in wider confidence intervals."
   ]
  },
  {
   "cell_type": "markdown",
   "metadata": {},
   "source": [
    "## Confidence intervals for the mean\n",
    "\n",
    "In this section, we discuss how to construct confidence intervals for the mean.  First note that the proportion discussed above is also a mean -- for example, if the data are 0, 1, 0, then the mean is 1/3, which is also the proportion of 1's in the data.  However the proportion has the special property that the variance is completely determined by the mean. That is why we constructed the standard errors for the sample proportion above using p•(1 - p) as the variance.  In general, the variance of quantitative data will not be a function of the mean, as this is a very special property of binary data.  Therefore, in general we must estimate the variance as a separate step after estimating the mean. \n",
    "\n",
    "To illustrate the construction of confidence intervals for the population mean of a quantitative variable, we will use the body mass inde (BMI) data from NHANES.  To begin, we calculate the mean BMI for all women and for all men in the NHANES sample."
   ]
  },
  {
   "cell_type": "code",
   "execution_count": 19,
   "metadata": {},
   "outputs": [
    {
     "data": {
      "text/html": [
       "<div>\n",
       "<style scoped>\n",
       "    .dataframe tbody tr th:only-of-type {\n",
       "        vertical-align: middle;\n",
       "    }\n",
       "\n",
       "    .dataframe tbody tr th {\n",
       "        vertical-align: top;\n",
       "    }\n",
       "\n",
       "    .dataframe thead th {\n",
       "        text-align: right;\n",
       "    }\n",
       "</style>\n",
       "<table border=\"1\" class=\"dataframe\">\n",
       "  <thead>\n",
       "    <tr style=\"text-align: right;\">\n",
       "      <th></th>\n",
       "      <th>BMXBMI</th>\n",
       "    </tr>\n",
       "    <tr>\n",
       "      <th>RIAGENDRx</th>\n",
       "      <th></th>\n",
       "    </tr>\n",
       "  </thead>\n",
       "  <tbody>\n",
       "    <tr>\n",
       "      <th>Female</th>\n",
       "      <td>29.939946</td>\n",
       "    </tr>\n",
       "    <tr>\n",
       "      <th>Male</th>\n",
       "      <td>28.778072</td>\n",
       "    </tr>\n",
       "  </tbody>\n",
       "</table>\n",
       "</div>"
      ],
      "text/plain": [
       "              BMXBMI\n",
       "RIAGENDRx           \n",
       "Female     29.939946\n",
       "Male       28.778072"
      ]
     },
     "execution_count": 19,
     "metadata": {},
     "output_type": "execute_result"
    }
   ],
   "source": [
    "da.groupby(\"RIAGENDRx\").agg({\"BMXBMI\": np.mean})"
   ]
  },
  {
   "cell_type": "markdown",
   "metadata": {},
   "source": [
    "The numbers in the first column of the table above are estimates of the population mean BMI for all women and for all men in the United States (the population that the NHANES study represents). As with the sample proportions, these numbers are not exactly equal to the mean BMI for all women and men, they are only estimates.  To establish the uncertainty for these estimates, we can use the standard errors for these two estimated means.\n",
    "\n",
    "The standard error for the mean based on an independent and identically distributed sample is equal to the standard deviation of the variable divided by the square root of the sample size.  We next calculate all the relevant values needed to compute the standard error. "
   ]
  },
  {
   "cell_type": "code",
   "execution_count": 20,
   "metadata": {},
   "outputs": [
    {
     "data": {
      "text/html": [
       "<div>\n",
       "<style scoped>\n",
       "    .dataframe tbody tr th:only-of-type {\n",
       "        vertical-align: middle;\n",
       "    }\n",
       "\n",
       "    .dataframe tbody tr th {\n",
       "        vertical-align: top;\n",
       "    }\n",
       "\n",
       "    .dataframe thead tr th {\n",
       "        text-align: left;\n",
       "    }\n",
       "\n",
       "    .dataframe thead tr:last-of-type th {\n",
       "        text-align: right;\n",
       "    }\n",
       "</style>\n",
       "<table border=\"1\" class=\"dataframe\">\n",
       "  <thead>\n",
       "    <tr>\n",
       "      <th></th>\n",
       "      <th colspan=\"3\" halign=\"left\">BMXBMI</th>\n",
       "    </tr>\n",
       "    <tr>\n",
       "      <th></th>\n",
       "      <th>mean</th>\n",
       "      <th>std</th>\n",
       "      <th>size</th>\n",
       "    </tr>\n",
       "    <tr>\n",
       "      <th>RIAGENDRx</th>\n",
       "      <th></th>\n",
       "      <th></th>\n",
       "      <th></th>\n",
       "    </tr>\n",
       "  </thead>\n",
       "  <tbody>\n",
       "    <tr>\n",
       "      <th>Female</th>\n",
       "      <td>29.939946</td>\n",
       "      <td>7.753319</td>\n",
       "      <td>2976.0</td>\n",
       "    </tr>\n",
       "    <tr>\n",
       "      <th>Male</th>\n",
       "      <td>28.778072</td>\n",
       "      <td>6.252568</td>\n",
       "      <td>2759.0</td>\n",
       "    </tr>\n",
       "  </tbody>\n",
       "</table>\n",
       "</div>"
      ],
      "text/plain": [
       "              BMXBMI                  \n",
       "                mean       std    size\n",
       "RIAGENDRx                             \n",
       "Female     29.939946  7.753319  2976.0\n",
       "Male       28.778072  6.252568  2759.0"
      ]
     },
     "execution_count": 20,
     "metadata": {},
     "output_type": "execute_result"
    }
   ],
   "source": [
    "da.groupby(\"RIAGENDRx\").agg({\"BMXBMI\": [np.mean, np.std, np.size]})\n",
    "#Alternatives:\n",
    "# da.groupby(\"RIAGENDRx\")[\"BMXBMI\"].agg({'mean' : np.mean, 'std' : np.std, 'size' : np.size})"
   ]
  },
  {
   "cell_type": "markdown",
   "metadata": {},
   "source": [
    "We can now calculate the standard error of the mean BMI for women and for men:"
   ]
  },
  {
   "cell_type": "code",
   "execution_count": 21,
   "metadata": {},
   "outputs": [
    {
     "name": "stdout",
     "output_type": "stream",
     "text": [
      "0.14211938534506902 0.119045388988243\n"
     ]
    }
   ],
   "source": [
    "sem_female = 7.753 / np.sqrt(2976)\n",
    "sem_male = 6.253 / np.sqrt(2759)\n",
    "print(sem_female, sem_male)"
   ]
  },
  {
   "cell_type": "markdown",
   "metadata": {},
   "source": [
    "We see that the sample mean BMI for women is expected to be off by around 0.14 relative to the population mean BMI for women, and the sample mean BMI for men is expected to be off by around 0.12 relative to the population mean BMI for men.\n",
    "\n",
    "The standard error of the mean for women is slightly larger for women than for men.  The reason for this is that even though the NHANES sample size for women is slightly larger than that for men, the data for women appears to be more spread out.  The greater standard deviation for the female BMI values leads in turn to less precision when estimating the population mean BMI for females. "
   ]
  },
  {
   "cell_type": "markdown",
   "metadata": {},
   "source": [
    "As was the case for proportions, the 95% confidence interval for the mean can be calculated by taking the estimate plus and minus 2 (or 1.96) times the standard error.  The 95% confidence interval for female BMI is thus calculated as follows:"
   ]
  },
  {
   "cell_type": "code",
   "execution_count": 22,
   "metadata": {},
   "outputs": [
    {
     "name": "stdout",
     "output_type": "stream",
     "text": [
      "29.661446004723665 30.218553995276338\n"
     ]
    }
   ],
   "source": [
    "lcb_female = 29.94 - 1.96 * 7.753 / np.sqrt(2976)\n",
    "ucb_female = 29.94 + 1.96 * 7.753 / np.sqrt(2976)\n",
    "print(lcb_female, ucb_female)"
   ]
  },
  {
   "cell_type": "markdown",
   "metadata": {},
   "source": [
    "Below we show how the one-sample confidence interval can be calculated using Statsmodels.  The numbers differ slightly\n",
    "due to rounding in the calculation above.  The result below is more exact."
   ]
  },
  {
   "cell_type": "code",
   "execution_count": 23,
   "metadata": {},
   "outputs": [
    {
     "data": {
      "text/plain": [
       "(29.659875498090155, 30.22001580625768)"
      ]
     },
     "execution_count": 23,
     "metadata": {},
     "output_type": "execute_result"
    }
   ],
   "source": [
    "female_bmi = da.loc[da.RIAGENDRx==\"Female\", \"BMXBMI\"].dropna()\n",
    "# Alternatives:\n",
    "# female_bmi = da[da['RIAGENDRx'] == 'Female']['BMXBMI'].dropna()\n",
    "sm.stats.DescrStatsW(female_bmi).zconfint_mean()"
   ]
  },
  {
   "cell_type": "markdown",
   "metadata": {},
   "source": [
    "### Confidence intervals for the difference between two means\n",
    "\n",
    "Now we turn to studying the difference between two means, taking the difference between mean female and male BMI for illustration.  As discussed above, the standard error for the difference of two means taken from independent samples is sqrt(SE1^2 + SE2^2), where SE1 and SE2 are the standard errors for the two means being compared.  Below we see that this gives us a value around 0.19 when comparing the female BMI to the male BMI.  This is substantially larger than either the SEM for estimating the female mean (0.14) or the SEM for estimating the male mean (0.12).  It is expected that the standard error for the difference between two means is greater than the standard errors for estimating a single mean, since the uncertainty of both gender-specific proportions impacts the statistic."
   ]
  },
  {
   "cell_type": "code",
   "execution_count": 24,
   "metadata": {},
   "outputs": [
    {
     "data": {
      "text/plain": [
       "0.18539073420811059"
      ]
     },
     "execution_count": 24,
     "metadata": {},
     "output_type": "execute_result"
    }
   ],
   "source": [
    "sem_diff = np.sqrt(sem_female**2 + sem_male**2)\n",
    "sem_diff"
   ]
  },
  {
   "cell_type": "markdown",
   "metadata": {},
   "source": [
    "We can can now construct a 95% confidence interval for the difference between the female and male mean BMI."
   ]
  },
  {
   "cell_type": "code",
   "execution_count": 25,
   "metadata": {},
   "outputs": [
    {
     "data": {
      "text/plain": [
       "(0.789218531583779, 1.5307814684162213)"
      ]
     },
     "execution_count": 25,
     "metadata": {},
     "output_type": "execute_result"
    }
   ],
   "source": [
    "bmi_diff = 29.94 - 28.78\n",
    "lcb = bmi_diff - 2*sem_diff\n",
    "ucb = bmi_diff + 2*sem_diff\n",
    "(lcb, ucb)"
   ]
  },
  {
   "cell_type": "markdown",
   "metadata": {},
   "source": [
    "This finding indicates that while the point estimate shows that the women in our sample have around 1.1 unit greater BMI than the men in our sample, the true difference between the mean for all women in the population and for all men in the population could fall between 0.79 and 1.53, and still be consistent with the observed data."
   ]
  },
  {
   "cell_type": "markdown",
   "metadata": {},
   "source": [
    "**Age-stratified confidence intervals** As a final example, we refine the analysis above by considering the difference of mean BMI values between females and males within age bands.  We see below that the overall average difference of 1.1 units results from differences that are very different based on age.  Specifically, the difference between female and male BMI is much smaller than 1.1 for younger people, and much larger than 1.1 for older people.  \n",
    "\n",
    "Since the confidence bands for people under 40 contain 0, the data are consistent with there being no difference between female and male BMI in this age range.  For people older than 40, a hypothetical zero difference between the mean BMI values for females and males is not very consistent with the data.  Informally, we can say that the data strongly suggest that the female mean BMI is greater than the male mean BMI in this age band, with the difference being anywhere from 0.5 to 2 units."
   ]
  },
  {
   "cell_type": "code",
   "execution_count": 26,
   "metadata": {},
   "outputs": [
    {
     "data": {
      "text/html": [
       "<div>\n",
       "<style scoped>\n",
       "    .dataframe tbody tr th:only-of-type {\n",
       "        vertical-align: middle;\n",
       "    }\n",
       "\n",
       "    .dataframe tbody tr th {\n",
       "        vertical-align: top;\n",
       "    }\n",
       "\n",
       "    .dataframe thead tr th {\n",
       "        text-align: left;\n",
       "    }\n",
       "\n",
       "    .dataframe thead tr:last-of-type th {\n",
       "        text-align: right;\n",
       "    }\n",
       "</style>\n",
       "<table border=\"1\" class=\"dataframe\">\n",
       "  <thead>\n",
       "    <tr>\n",
       "      <th></th>\n",
       "      <th colspan=\"6\" halign=\"left\">BMXBMI</th>\n",
       "    </tr>\n",
       "    <tr>\n",
       "      <th></th>\n",
       "      <th colspan=\"2\" halign=\"left\">mean</th>\n",
       "      <th colspan=\"2\" halign=\"left\">std</th>\n",
       "      <th colspan=\"2\" halign=\"left\">size</th>\n",
       "    </tr>\n",
       "    <tr>\n",
       "      <th>RIAGENDRx</th>\n",
       "      <th>Female</th>\n",
       "      <th>Male</th>\n",
       "      <th>Female</th>\n",
       "      <th>Male</th>\n",
       "      <th>Female</th>\n",
       "      <th>Male</th>\n",
       "    </tr>\n",
       "    <tr>\n",
       "      <th>agegrp</th>\n",
       "      <th></th>\n",
       "      <th></th>\n",
       "      <th></th>\n",
       "      <th></th>\n",
       "      <th></th>\n",
       "      <th></th>\n",
       "    </tr>\n",
       "  </thead>\n",
       "  <tbody>\n",
       "    <tr>\n",
       "      <th>(18, 30]</th>\n",
       "      <td>28.123881</td>\n",
       "      <td>27.391822</td>\n",
       "      <td>7.745893</td>\n",
       "      <td>6.649440</td>\n",
       "      <td>609.0</td>\n",
       "      <td>544.0</td>\n",
       "    </tr>\n",
       "    <tr>\n",
       "      <th>(30, 40]</th>\n",
       "      <td>30.325586</td>\n",
       "      <td>29.611726</td>\n",
       "      <td>8.315608</td>\n",
       "      <td>6.622412</td>\n",
       "      <td>474.0</td>\n",
       "      <td>458.0</td>\n",
       "    </tr>\n",
       "    <tr>\n",
       "      <th>(40, 50]</th>\n",
       "      <td>31.160643</td>\n",
       "      <td>29.724623</td>\n",
       "      <td>8.076195</td>\n",
       "      <td>6.407076</td>\n",
       "      <td>502.0</td>\n",
       "      <td>401.0</td>\n",
       "    </tr>\n",
       "    <tr>\n",
       "      <th>(50, 60]</th>\n",
       "      <td>30.743777</td>\n",
       "      <td>29.231486</td>\n",
       "      <td>7.575848</td>\n",
       "      <td>5.914373</td>\n",
       "      <td>470.0</td>\n",
       "      <td>454.0</td>\n",
       "    </tr>\n",
       "    <tr>\n",
       "      <th>(60, 70]</th>\n",
       "      <td>31.074828</td>\n",
       "      <td>29.392488</td>\n",
       "      <td>7.604514</td>\n",
       "      <td>5.933307</td>\n",
       "      <td>441.0</td>\n",
       "      <td>437.0</td>\n",
       "    </tr>\n",
       "    <tr>\n",
       "      <th>(70, 80]</th>\n",
       "      <td>29.138213</td>\n",
       "      <td>27.957692</td>\n",
       "      <td>6.284968</td>\n",
       "      <td>4.974855</td>\n",
       "      <td>410.0</td>\n",
       "      <td>402.0</td>\n",
       "    </tr>\n",
       "  </tbody>\n",
       "</table>\n",
       "</div>"
      ],
      "text/plain": [
       "              BMXBMI                                             \n",
       "                mean                  std             size       \n",
       "RIAGENDRx     Female       Male    Female      Male Female   Male\n",
       "agegrp                                                           \n",
       "(18, 30]   28.123881  27.391822  7.745893  6.649440  609.0  544.0\n",
       "(30, 40]   30.325586  29.611726  8.315608  6.622412  474.0  458.0\n",
       "(40, 50]   31.160643  29.724623  8.076195  6.407076  502.0  401.0\n",
       "(50, 60]   30.743777  29.231486  7.575848  5.914373  470.0  454.0\n",
       "(60, 70]   31.074828  29.392488  7.604514  5.933307  441.0  437.0\n",
       "(70, 80]   29.138213  27.957692  6.284968  4.974855  410.0  402.0"
      ]
     },
     "execution_count": 26,
     "metadata": {},
     "output_type": "execute_result"
    }
   ],
   "source": [
    "# Calculate the mean, SD, and sample size for BMI within age/gender groups\n",
    "da[\"agegrp\"] = pd.cut(da.RIDAGEYR, [18, 30, 40, 50, 60, 70, 80])\n",
    "pr = da.groupby([\"agegrp\", \"RIAGENDRx\"]).agg({\"BMXBMI\": [np.mean, np.std, np.size]}).unstack()\n",
    "pr"
   ]
  },
  {
   "cell_type": "code",
   "execution_count": 27,
   "metadata": {},
   "outputs": [
    {
     "name": "stdout",
     "output_type": "stream",
     "text": [
      "agegrp\n",
      "(18, 30]    0.313879\n",
      "(30, 40]    0.381949\n",
      "(40, 50]    0.360458\n",
      "(50, 60]    0.349448\n",
      "(60, 70]    0.362120\n",
      "(70, 80]    0.310392\n",
      "Name: (BMXBMI, sem, Female), dtype: float64\n",
      "agegrp\n",
      "(18, 30]    0.285092\n",
      "(30, 40]    0.309445\n",
      "(40, 50]    0.319954\n",
      "(50, 60]    0.277575\n",
      "(60, 70]    0.283829\n",
      "(70, 80]    0.248123\n",
      "Name: (BMXBMI, sem, Male), dtype: float64\n"
     ]
    }
   ],
   "source": [
    "# Calculate the SEM(Standard Error Means) for females and for males within each age band\n",
    "pr[\"BMXBMI\", \"sem\", \"Female\"] = pr[\"BMXBMI\", \"std\", \"Female\"] / np.sqrt(pr[\"BMXBMI\", \"size\", \"Female\"]) \n",
    "pr[\"BMXBMI\", \"sem\", \"Male\"] = pr[\"BMXBMI\", \"std\", \"Male\"] / np.sqrt(pr[\"BMXBMI\", \"size\", \"Male\"]) \n",
    "print(pr[\"BMXBMI\", \"sem\", \"Female\"])\n",
    "print(pr[\"BMXBMI\", \"sem\", \"Male\"])"
   ]
  },
  {
   "cell_type": "code",
   "execution_count": 28,
   "metadata": {},
   "outputs": [
    {
     "data": {
      "text/plain": [
       "(agegrp\n",
       " (18, 30]   -0.099032\n",
       " (30, 40]   -0.249616\n",
       " (40, 50]    0.491347\n",
       " (50, 60]    0.637591\n",
       " (60, 70]    0.780550\n",
       " (70, 80]    0.401662\n",
       " Name: (BMXBMI, lcb_diff, ), dtype: float64, agegrp\n",
       " (18, 30]    1.563150\n",
       " (30, 40]    1.677338\n",
       " (40, 50]    2.380692\n",
       " (50, 60]    2.386991\n",
       " (60, 70]    2.584130\n",
       " (70, 80]    1.959380\n",
       " Name: (BMXBMI, ucb_diff, ), dtype: float64)"
      ]
     },
     "execution_count": 28,
     "metadata": {},
     "output_type": "execute_result"
    }
   ],
   "source": [
    "# Calculate the mean difference of BMI between females and males within each age band, also  calculate\n",
    "# its SE and the lower and upper limits of its 95% CI.\n",
    "pr[\"BMXBMI\", \"mean_diff\", \"\"] = pr[\"BMXBMI\", \"mean\", \"Female\"] - pr[\"BMXBMI\", \"mean\", \"Male\"]\n",
    "pr[\"BMXBMI\", \"sem_diff\", \"\"] = np.sqrt(pr[\"BMXBMI\", \"sem\", \"Female\"]**2 + pr[\"BMXBMI\", \"sem\", \"Male\"]**2) \n",
    "pr[\"BMXBMI\", \"lcb_diff\", \"\"] = pr[\"BMXBMI\", \"mean_diff\", \"\"] - 1.96 * pr[\"BMXBMI\", \"sem_diff\", \"\"] \n",
    "pr[\"BMXBMI\", \"ucb_diff\", \"\"] = pr[\"BMXBMI\", \"mean_diff\", \"\"] + 1.96 * pr[\"BMXBMI\", \"sem_diff\", \"\"] \n",
    "(pr[\"BMXBMI\", \"lcb_diff\", \"\"], pr[\"BMXBMI\", \"ucb_diff\", \"\"])"
   ]
  },
  {
   "cell_type": "code",
   "execution_count": 29,
   "metadata": {},
   "outputs": [
    {
     "data": {
      "text/plain": [
       "Text(0,0.5,'Female - male BMI difference')"
      ]
     },
     "execution_count": 29,
     "metadata": {},
     "output_type": "execute_result"
    },
    {
     "data": {
      "image/png": "[encoded data removed]",
      "text/plain": [
       "<Figure size 432x288 with 1 Axes>"
      ]
     },
     "metadata": {},
     "output_type": "display_data"
    }
   ],
   "source": [
    "# Plot the mean difference in black and the confidence limits in blue\n",
    "x = np.arange(pr.shape[0])\n",
    "pp = sns.pointplot(x, pr[\"BMXBMI\", \"mean_diff\", \"\"], color='black')\n",
    "sns.pointplot(x, pr[\"BMXBMI\", \"lcb_diff\", \"\"], color='blue')\n",
    "sns.pointplot(x, pr[\"BMXBMI\", \"ucb_diff\", \"\"], color='blue')\n",
    "pp.set_xticklabels(pr.index)\n",
    "pp.set_xlabel(\"Age group\")\n",
    "pp.set_ylabel(\"Female - male BMI difference\")"
   ]
  },
  {
   "cell_type": "markdown",
   "metadata": {},
   "source": [
    "**Inter-group and intra-group differences:** As the sample size grows, estimates become increasingly precise, but it is important to remember that a highly precise estimate for the mean does not imply that individuals within a population do not vary from each other.  To put the differences shown above in context, below we show the underlying summaries on which the plot above was based.  Note that the standard deviation of BMI within both females and males ranges from around 5 to around 8 depending on the age band.  This means, for example, that two randomly-selected males will tend to have BMI values that differ by around 6 units.  This is a far greater difference than the mean difference of up to around 1.5 BMI units between females and males.  Thus, while there is a tendency for females to have slightly higher BMI than males, the heterogeneity within genders is substantially greater than the difference of means between genders."
   ]
  },
  {
   "cell_type": "code",
   "execution_count": 173,
   "metadata": {},
   "outputs": [
    {
     "name": "stdout",
     "output_type": "stream",
     "text": [
      "              BMXBMI                                                         \\\n",
      "                mean                  std             size              sem   \n",
      "RIAGENDRx     Female       Male    Female      Male Female   Male    Female   \n",
      "agegrp                                                                        \n",
      "(18, 30]   28.123881  27.391822  7.745893  6.649440  609.0  544.0  0.313879   \n",
      "(30, 40]   30.325586  29.611726  8.315608  6.622412  474.0  458.0  0.381949   \n",
      "(40, 50]   31.160643  29.724623  8.076195  6.407076  502.0  401.0  0.360458   \n",
      "(50, 60]   30.743777  29.231486  7.575848  5.914373  470.0  454.0  0.349448   \n",
      "(60, 70]   31.074828  29.392488  7.604514  5.933307  441.0  437.0  0.362120   \n",
      "(70, 80]   29.138213  27.957692  6.284968  4.974855  410.0  402.0  0.310392   \n",
      "\n",
      "                                                             \n",
      "                    mean_diff  sem_diff  lcb_diff  ucb_diff  \n",
      "RIAGENDRx      Male                                          \n",
      "agegrp                                                       \n",
      "(18, 30]   0.285092  0.732059  0.424026 -0.099032  1.563150  \n",
      "(30, 40]   0.309445  0.713861  0.491570 -0.249616  1.677338  \n",
      "(40, 50]   0.319954  1.436019  0.481976  0.491347  2.380692  \n",
      "(50, 60]   0.277575  1.512291  0.446275  0.637591  2.386991  \n",
      "(60, 70]   0.283829  1.682340  0.460097  0.780550  2.584130  \n",
      "(70, 80]   0.248123  1.180521  0.397377  0.401662  1.959380  \n"
     ]
    }
   ],
   "source": [
    "print(pr)"
   ]
  },
  {
   "cell_type": "markdown",
   "metadata": {},
   "source": [
    "### Confidence intervals and sample size\n",
    "\n",
    "Confidence intervals reflect the precision of an estimate, which is largely driven by the amount of data used to construct the estimate.  We can explore the relationship between precision and sample size by subampling data from NHANES and calculating confidence intervals for the subsamples.  Below we calculate confidence intervals based on subsamples of size 100, 200, 400, and 800.\n",
    "\n",
    "A wider confidence interval implies that we have less precision in our estimate.  In the simulation below, we calculate the average width of the confidence intervals constructed for each sample size.  We see that the confidence interval steadily becomes shorter as the sample size grows.  For most settings, the confidence interval will become around half as wide when the sample size is increased by a factor of 4.  Below we see this scaling when the sample size increases from 100 to 400, and when it increases from 200 to 800, both of which are increases by a factor of 4."
   ]
  },
  {
   "cell_type": "code",
   "execution_count": 30,
   "metadata": {},
   "outputs": [
    {
     "name": "stdout",
     "output_type": "stream",
     "text": [
      "100 3.0151374732839926\n",
      "200 2.1383776294337693\n",
      "400 1.5165485335186304\n",
      "800 1.075502696530318\n"
     ]
    }
   ],
   "source": [
    "dx = da.loc[da.RIAGENDRx==\"Female\", [\"RIAGENDRx\", \"BMXBMI\"]].dropna()\n",
    "\n",
    "all_cis = []\n",
    "for n in 100, 200, 400, 800:\n",
    "    cis = []\n",
    "    for i in range(500):\n",
    "        dz = dx.sample(n)\n",
    "        ci = sm.stats.DescrStatsW(dz.BMXBMI).zconfint_mean()\n",
    "        cis.append(ci)\n",
    "    cis = np.asarray(cis)\n",
    "    mean_width = cis[:, 1].mean() - cis[:, 0].mean()\n",
    "    print(n, mean_width)\n",
    "    all_cis.append(cis)"
   ]
  },
  {
   "cell_type": "code",
   "execution_count": 50,
   "metadata": {},
   "outputs": [
    {
     "name": "stdout",
     "output_type": "stream",
     "text": [
      "[0, 0]\n",
      "[27.76158807 30.76841193]\n",
      "[1, 1]\n",
      "[29.20099133 32.22100867]\n",
      "[2, 2]\n",
      "[28.86285508 32.52714492]\n",
      "[3, 3]\n",
      "[29.16118778 31.99481222]\n",
      "[4, 4]\n",
      "[28.14127806 31.19472194]\n",
      "[5, 5]\n",
      "[28.30963255 31.09436745]\n",
      "[6, 6]\n",
      "[26.36948041 28.75851959]\n",
      "[7, 7]\n",
      "[29.17542303 32.75057697]\n",
      "[8, 8]\n",
      "[28.53949893 31.52650107]\n",
      "[9, 9]\n",
      "[27.90994101 31.14005899]\n",
      "[10, 10]\n",
      "[27.7520694 30.4479306]\n",
      "[11, 11]\n",
      "[28.07134789 30.96065211]\n",
      "[12, 12]\n",
      "[28.14964191 30.91835809]\n",
      "[13, 13]\n",
      "[28.08937791 30.88262209]\n",
      "[14, 14]\n",
      "[28.47932087 31.58667913]\n",
      "[15, 15]\n",
      "[27.5301618 30.3058382]\n",
      "[16, 16]\n",
      "[28.12353542 30.70046458]\n",
      "[17, 17]\n",
      "[27.70229017 30.40170983]\n",
      "[18, 18]\n",
      "[29.22136071 32.06863929]\n",
      "[19, 19]\n",
      "[28.4031228 31.0768772]\n",
      "[20, 20]\n",
      "[28.07278214 31.16521786]\n",
      "[21, 21]\n",
      "[28.16485606 31.08514394]\n",
      "[22, 22]\n",
      "[28.7227791 32.0332209]\n",
      "[23, 23]\n",
      "[29.47584801 32.32015199]\n",
      "[24, 24]\n",
      "[28.57808514 31.40791486]\n",
      "[25, 25]\n",
      "[28.5724598 31.4615402]\n",
      "[26, 26]\n",
      "[28.79576662 31.46223338]\n",
      "[27, 27]\n",
      "[29.30531439 32.58668561]\n",
      "[28, 28]\n",
      "[28.97488819 32.15911181]\n",
      "[29, 29]\n",
      "[27.7640073 30.4759927]\n",
      "[30, 30]\n",
      "[28.00394449 30.84805551]\n",
      "[31, 31]\n",
      "[27.81900733 30.25899267]\n",
      "[32, 32]\n",
      "[27.83140682 30.80459318]\n",
      "[33, 33]\n",
      "[28.94294444 32.06305556]\n",
      "[34, 34]\n",
      "[28.46005627 31.42194373]\n",
      "[35, 35]\n",
      "[28.31887286 31.45312714]\n",
      "[36, 36]\n",
      "[28.90443684 31.88556316]\n",
      "[37, 37]\n",
      "[27.8755554 30.9144446]\n",
      "[38, 38]\n",
      "[27.33846631 30.18353369]\n",
      "[39, 39]\n",
      "[27.97338924 31.10461076]\n",
      "[40, 40]\n",
      "[28.59551703 31.79848297]\n",
      "[41, 41]\n",
      "[29.68052581 32.58147419]\n",
      "[42, 42]\n",
      "[30.26124962 33.59875038]\n",
      "[43, 43]\n",
      "[28.71264501 31.87935499]\n",
      "[44, 44]\n",
      "[27.59255616 30.35144384]\n",
      "[45, 45]\n",
      "[27.88076046 30.50323954]\n",
      "[46, 46]\n",
      "[27.51929156 30.64070844]\n",
      "[47, 47]\n",
      "[28.53114999 31.72485001]\n",
      "[48, 48]\n",
      "[28.73794624 31.79605376]\n",
      "[49, 49]\n",
      "[28.94161536 31.98038464]\n",
      "[50, 50]\n",
      "[28.1767724 31.1952276]\n",
      "[51, 51]\n",
      "[28.01485194 30.46714806]\n",
      "[52, 52]\n",
      "[28.32239994 31.03560006]\n",
      "[53, 53]\n",
      "[27.59715548 30.77884452]\n",
      "[54, 54]\n",
      "[28.16877949 31.01322051]\n",
      "[55, 55]\n",
      "[29.17976373 32.51823627]\n",
      "[56, 56]\n",
      "[28.41340263 31.16859737]\n",
      "[57, 57]\n",
      "[28.54965879 31.32434121]\n",
      "[58, 58]\n",
      "[28.33611519 31.29988481]\n",
      "[59, 59]\n",
      "[28.13160501 30.97039499]\n",
      "[60, 60]\n",
      "[27.72217521 31.08182479]\n",
      "[61, 61]\n",
      "[28.33592997 31.15407003]\n",
      "[62, 62]\n",
      "[27.34442326 30.00357674]\n",
      "[63, 63]\n",
      "[28.19702289 31.08897711]\n",
      "[64, 64]\n",
      "[28.74690554 32.09909446]\n",
      "[65, 65]\n",
      "[28.88443305 31.96356695]\n",
      "[66, 66]\n",
      "[28.11920642 31.10679358]\n",
      "[67, 67]\n",
      "[28.73240406 32.24359594]\n",
      "[68, 68]\n",
      "[27.57504513 30.56695487]\n",
      "[69, 69]\n",
      "[29.35501409 32.43498591]\n",
      "[70, 70]\n",
      "[28.36881866 31.27918134]\n",
      "[71, 71]\n",
      "[29.37462632 32.38937368]\n",
      "[72, 72]\n",
      "[29.16926952 31.92273048]\n",
      "[73, 73]\n",
      "[27.97610536 30.72589464]\n",
      "[74, 74]\n",
      "[27.82948075 30.82051925]\n",
      "[75, 75]\n",
      "[27.35317813 30.05282187]\n",
      "[76, 76]\n",
      "[28.49384912 31.39215088]\n",
      "[77, 77]\n",
      "[28.61499252 31.76300748]\n",
      "[78, 78]\n",
      "[28.53906072 31.48293928]\n",
      "[79, 79]\n",
      "[28.218536 30.995464]\n",
      "[80, 80]\n",
      "[27.5811681 30.2908319]\n",
      "[81, 81]\n",
      "[28.04078094 31.63721906]\n",
      "[82, 82]\n",
      "[27.62357668 30.46042332]\n",
      "[83, 83]\n",
      "[28.41556105 32.14043895]\n",
      "[84, 84]\n",
      "[28.01675688 31.02124312]\n",
      "[85, 85]\n",
      "[28.42614441 31.60185559]\n",
      "[86, 86]\n",
      "[29.47464893 32.88335107]\n",
      "[87, 87]\n",
      "[28.64521701 31.53078299]\n",
      "[88, 88]\n",
      "[27.63834096 30.21565904]\n",
      "[89, 89]\n",
      "[28.1472106 31.4707894]\n",
      "[90, 90]\n",
      "[28.99827299 32.42772701]\n",
      "[91, 91]\n",
      "[28.48886083 31.30513917]\n",
      "[92, 92]\n",
      "[29.0602955 32.2377045]\n",
      "[93, 93]\n",
      "[27.01269852 30.03330148]\n",
      "[94, 94]\n",
      "[28.03372544 31.20827456]\n",
      "[95, 95]\n",
      "[27.77098644 30.98701356]\n",
      "[96, 96]\n",
      "[29.40252441 32.88547559]\n",
      "[97, 97]\n",
      "[28.53201155 31.75398845]\n",
      "[98, 98]\n",
      "[29.54080865 32.64119135]\n",
      "[99, 99]\n",
      "[29.31093766 32.23306234]\n",
      "[100, 100]\n",
      "[28.04983603 31.16816397]\n",
      "[101, 101]\n",
      "[27.75990477 30.66209523]\n",
      "[102, 102]\n",
      "[29.00224467 32.04375533]\n",
      "[103, 103]\n",
      "[28.2976704 31.5543296]\n",
      "[104, 104]\n",
      "[27.88378252 31.03621748]\n",
      "[105, 105]\n",
      "[27.6516583 30.2103417]\n",
      "[106, 106]\n",
      "[27.61478214 30.15121786]\n",
      "[107, 107]\n",
      "[28.51255204 30.98544796]\n",
      "[108, 108]\n",
      "[28.36629372 31.50570628]\n",
      "[109, 109]\n",
      "[29.45380386 32.58219614]\n",
      "[110, 110]\n",
      "[29.17788421 32.52011579]\n",
      "[111, 111]\n",
      "[27.99848433 31.06551567]\n",
      "[112, 112]\n",
      "[28.42059169 31.40140831]\n",
      "[113, 113]\n",
      "[28.40773728 31.79026272]\n",
      "[114, 114]\n",
      "[29.28984559 32.88415441]\n",
      "[115, 115]\n",
      "[28.50636471 31.41963529]\n",
      "[116, 116]\n",
      "[27.84176978 30.86423022]\n",
      "[117, 117]\n",
      "[28.6954374 31.4405626]\n",
      "[118, 118]\n",
      "[28.86255498 31.77144502]\n",
      "[119, 119]\n",
      "[28.69798678 31.96601322]\n",
      "[120, 120]\n",
      "[28.99513384 31.98686616]\n",
      "[121, 121]\n",
      "[28.5642913 31.0357087]\n",
      "[122, 122]\n",
      "[27.88057383 31.01142617]\n",
      "[123, 123]\n",
      "[28.05557402 31.24242598]\n",
      "[124, 124]\n",
      "[28.96023015 32.10576985]\n",
      "[125, 125]\n",
      "[27.80891144 30.34308856]\n",
      "[126, 126]\n",
      "[27.62844722 31.06955278]\n",
      "[127, 127]\n",
      "[28.57631368 31.29168632]\n",
      "[128, 128]\n",
      "[28.57888686 31.63311314]\n",
      "[129, 129]\n",
      "[29.28106244 32.07493756]\n",
      "[130, 130]\n",
      "[28.64911304 31.79288696]\n",
      "[131, 131]\n",
      "[29.08029104 32.36170896]\n",
      "[132, 132]\n",
      "[27.81872307 30.47527693]\n",
      "[133, 133]\n",
      "[30.07363044 33.09036956]\n",
      "[134, 134]\n",
      "[29.15390001 32.04409999]\n",
      "[135, 135]\n",
      "[28.82889934 31.73510066]\n",
      "[136, 136]\n",
      "[28.45299988 31.78500012]\n",
      "[137, 137]\n",
      "[27.99490385 30.72709615]\n",
      "[138, 138]\n",
      "[28.55608028 31.63391972]\n",
      "[139, 139]\n",
      "[28.51029187 31.52170813]\n",
      "[140, 140]\n",
      "[27.95122977 30.91277023]\n",
      "[141, 141]\n",
      "[28.64986989 31.92013011]\n",
      "[142, 142]\n",
      "[29.12783699 32.51216301]\n",
      "[143, 143]\n",
      "[28.7784934 31.3935066]\n",
      "[144, 144]\n",
      "[29.70240702 33.25159298]\n",
      "[145, 145]\n",
      "[29.29115642 32.54684358]\n",
      "[146, 146]\n",
      "[28.37493453 31.07106547]\n",
      "[147, 147]\n",
      "[27.85446105 30.93953895]\n",
      "[148, 148]\n",
      "[28.59909922 31.99490078]\n",
      "[149, 149]\n",
      "[27.62693222 30.73506778]\n",
      "[150, 150]\n",
      "[27.62427462 30.55972538]\n",
      "[151, 151]\n",
      "[28.26797759 31.11402241]\n",
      "[152, 152]\n",
      "[28.3865977 31.0854023]\n",
      "[153, 153]\n",
      "[29.34027218 32.69972782]\n",
      "[154, 154]\n",
      "[28.38675636 31.33724364]\n",
      "[155, 155]\n",
      "[28.01453979 31.38346021]\n",
      "[156, 156]\n",
      "[28.38154752 31.58645248]\n",
      "[157, 157]\n",
      "[27.3718351 29.9721649]\n",
      "[158, 158]\n",
      "[26.86182876 29.33817124]\n",
      "[159, 159]\n",
      "[29.39846975 32.10953025]\n",
      "[160, 160]\n",
      "[28.53624118 31.32375882]\n",
      "[161, 161]\n",
      "[29.51215865 32.32584135]\n",
      "[162, 162]\n",
      "[27.35043772 29.89356228]\n",
      "[163, 163]\n",
      "[29.07144435 32.22855565]\n",
      "[164, 164]\n",
      "[26.93677445 29.66922555]\n",
      "[165, 165]\n",
      "[29.07799407 32.48400593]\n",
      "[166, 166]\n",
      "[28.42076093 31.35123907]\n",
      "[167, 167]\n",
      "[29.22469694 32.62530306]\n",
      "[168, 168]\n",
      "[29.36335914 32.50264086]\n",
      "[169, 169]\n",
      "[27.70110736 30.63089264]\n",
      "[170, 170]\n",
      "[28.93237671 31.49962329]\n",
      "[171, 171]\n",
      "[29.36863452 32.54736548]\n",
      "[172, 172]\n",
      "[28.22641166 31.00158834]\n",
      "[173, 173]\n",
      "[28.34921524 31.43078476]\n",
      "[174, 174]\n",
      "[27.69461507 30.74738493]\n",
      "[175, 175]\n",
      "[28.23912243 31.14087757]\n",
      "[176, 176]\n",
      "[27.64495262 30.42704738]\n",
      "[177, 177]\n",
      "[28.70280064 31.62719936]\n",
      "[178, 178]\n",
      "[27.98201292 31.35998708]\n",
      "[179, 179]\n",
      "[28.55715083 31.88084917]\n",
      "[180, 180]\n",
      "[29.75508178 33.13291822]\n",
      "[181, 181]\n",
      "[29.10534977 31.95665023]\n",
      "[182, 182]\n",
      "[27.43727018 30.20872982]\n",
      "[183, 183]\n",
      "[28.91691451 32.40108549]\n",
      "[184, 184]\n",
      "[28.74123461 31.67476539]\n",
      "[185, 185]\n",
      "[28.04872613 31.13527387]\n",
      "[186, 186]\n",
      "[28.5309257 31.2770743]\n",
      "[187, 187]\n",
      "[28.70135205 31.78264795]\n",
      "[188, 188]\n",
      "[27.14194104 29.89805896]\n",
      "[189, 189]\n",
      "[27.94062053 30.93537947]\n",
      "[190, 190]\n",
      "[27.83288319 30.74911681]\n",
      "[191, 191]\n",
      "[29.09499735 31.69300265]\n",
      "[192, 192]\n",
      "[28.89655464 31.93144536]\n",
      "[193, 193]\n",
      "[28.17404239 30.80395761]\n",
      "[194, 194]\n",
      "[28.32523538 31.49276462]\n",
      "[195, 195]\n",
      "[29.68208866 33.00591134]\n",
      "[196, 196]\n",
      "[28.0900057 31.1439943]\n",
      "[197, 197]\n",
      "[28.27372363 31.15627637]\n",
      "[198, 198]\n",
      "[29.13451268 31.87948732]\n",
      "[199, 199]\n",
      "[28.70623103 32.03576897]\n",
      "[200, 200]\n",
      "[27.22970187 29.79829813]\n",
      "[201, 201]\n",
      "[28.42710333 31.10289667]\n",
      "[202, 202]\n",
      "[28.94424585 31.94775415]\n",
      "[203, 203]\n",
      "[27.95516762 30.81083238]\n",
      "[204, 204]\n",
      "[28.65556579 31.40243421]\n",
      "[205, 205]\n",
      "[28.24569043 31.19030957]\n",
      "[206, 206]\n",
      "[28.86689735 31.92910265]\n",
      "[207, 207]\n",
      "[28.8985971 32.0954029]\n",
      "[208, 208]\n",
      "[28.41985637 31.33214363]\n",
      "[209, 209]\n",
      "[28.31978509 31.37221491]\n",
      "[210, 210]\n",
      "[28.59102859 31.64697141]\n",
      "[211, 211]\n",
      "[29.31757818 32.97042182]\n",
      "[212, 212]\n",
      "[26.99834414 29.36565586]\n",
      "[213, 213]\n",
      "[28.41703587 31.72096413]\n",
      "[214, 214]\n",
      "[27.52194526 30.66405474]\n",
      "[215, 215]\n",
      "[28.48961795 31.67238205]\n",
      "[216, 216]\n",
      "[27.73092471 31.14707529]\n",
      "[217, 217]\n",
      "[29.10656265 32.26143735]\n",
      "[218, 218]\n",
      "[27.81740696 31.34659304]\n",
      "[219, 219]\n",
      "[27.70678737 30.56721263]\n",
      "[220, 220]\n",
      "[28.54627328 31.89572672]\n",
      "[221, 221]\n",
      "[28.17168344 31.02031656]\n",
      "[222, 222]\n",
      "[29.01894953 31.86705047]\n",
      "[223, 223]\n",
      "[27.69772224 31.01627776]\n",
      "[224, 224]\n",
      "[28.86070496 31.81329504]\n",
      "[225, 225]\n",
      "[27.62430917 30.38169083]\n",
      "[226, 226]\n",
      "[29.39584627 32.70415373]\n",
      "[227, 227]\n",
      "[29.3559354 32.5560646]\n",
      "[228, 228]\n",
      "[30.26130335 33.46469665]\n",
      "[229, 229]\n",
      "[28.34485399 31.23114601]\n",
      "[230, 230]\n",
      "[28.44817788 31.62582212]\n",
      "[231, 231]\n",
      "[27.92745158 30.56054842]\n",
      "[232, 232]\n",
      "[27.23821372 30.42178628]\n",
      "[233, 233]\n",
      "[29.16162292 32.47037708]\n",
      "[234, 234]\n",
      "[27.34423869 30.17576131]\n",
      "[235, 235]\n",
      "[27.58861858 30.38538142]\n",
      "[236, 236]\n",
      "[29.06440047 32.13559953]\n",
      "[237, 237]\n",
      "[28.82019072 31.50780928]\n",
      "[238, 238]\n",
      "[29.73669182 32.97530818]\n",
      "[239, 239]\n",
      "[26.99037707 29.82562293]\n",
      "[240, 240]\n",
      "[27.86209437 30.47790563]\n",
      "[241, 241]\n",
      "[28.76587968 31.86612032]\n",
      "[242, 242]\n",
      "[28.65758593 32.26641407]\n",
      "[243, 243]\n",
      "[26.56056038 29.01743962]\n",
      "[244, 244]\n",
      "[28.32944423 31.73655577]\n",
      "[245, 245]\n",
      "[28.98413754 32.19986246]\n",
      "[246, 246]\n",
      "[27.73033525 30.87566475]\n",
      "[247, 247]\n",
      "[28.24171578 32.04828422]\n",
      "[248, 248]\n",
      "[29.6380018 32.5139982]\n",
      "[249, 249]\n",
      "[28.72647631 31.78152369]\n",
      "[250, 250]\n",
      "[28.21799436 31.53800564]\n",
      "[251, 251]\n",
      "[27.72616954 30.86783046]\n",
      "[252, 252]\n",
      "[30.03010841 33.38789159]\n",
      "[253, 253]\n",
      "[28.67734867 31.39065133]\n",
      "[254, 254]\n",
      "[28.45032524 31.58167476]\n",
      "[255, 255]\n",
      "[28.2212134 30.9887866]\n",
      "[256, 256]\n",
      "[28.4354183 31.6825817]\n",
      "[257, 257]\n",
      "[27.3493387 30.3966613]\n",
      "[258, 258]\n",
      "[29.11036111 31.79363889]\n",
      "[259, 259]\n",
      "[29.04560992 32.27239008]\n",
      "[260, 260]\n",
      "[28.2463584 31.1516416]\n",
      "[261, 261]\n",
      "[26.91741198 29.48658802]\n",
      "[262, 262]\n",
      "[28.36398825 31.32001175]\n",
      "[263, 263]\n",
      "[28.58085156 31.45314844]\n",
      "[264, 264]\n",
      "[28.78568436 31.74831564]\n",
      "[265, 265]\n",
      "[28.07443461 31.01956539]\n",
      "[266, 266]\n",
      "[28.32638212 31.46361788]\n",
      "[267, 267]\n",
      "[28.54043996 31.57756004]\n",
      "[268, 268]\n",
      "[28.29036276 31.54163724]\n",
      "[269, 269]\n",
      "[28.90539921 32.39060079]\n",
      "[270, 270]\n",
      "[27.56400599 30.65599401]\n",
      "[271, 271]\n",
      "[27.85287339 30.66912661]\n",
      "[272, 272]\n",
      "[28.4335923 31.2064077]\n",
      "[273, 273]\n",
      "[27.39107529 30.12692471]\n",
      "[274, 274]\n",
      "[28.27972932 31.56027068]\n",
      "[275, 275]\n",
      "[29.67823668 33.06776332]\n",
      "[276, 276]\n",
      "[29.18366224 32.08233776]\n",
      "[277, 277]\n",
      "[27.90806291 31.00993709]\n",
      "[278, 278]\n",
      "[28.09367116 30.99832884]\n",
      "[279, 279]\n",
      "[27.97519159 30.68280841]\n",
      "[280, 280]\n",
      "[29.53073543 32.72926457]\n",
      "[281, 281]\n",
      "[28.61082067 32.02717933]\n",
      "[282, 282]\n",
      "[29.1648846 32.1351154]\n",
      "[283, 283]\n",
      "[28.2529435 30.8890565]\n",
      "[284, 284]\n",
      "[28.13910434 31.27689566]\n",
      "[285, 285]\n",
      "[27.72610738 30.50589262]\n",
      "[286, 286]\n",
      "[29.90804133 33.16595867]\n",
      "[287, 287]\n",
      "[28.44604676 31.49395324]\n",
      "[288, 288]\n",
      "[28.41248449 30.88351551]\n",
      "[289, 289]\n",
      "[27.92792424 30.57407576]\n",
      "[290, 290]\n",
      "[28.97010928 31.98989072]\n",
      "[291, 291]\n",
      "[29.80914254 32.96285746]\n",
      "[292, 292]\n",
      "[30.31679395 34.23920605]\n",
      "[293, 293]\n",
      "[28.59002831 32.12797169]\n",
      "[294, 294]\n",
      "[28.07228303 30.72171697]\n",
      "[295, 295]\n",
      "[27.6870705 30.2769295]\n",
      "[296, 296]\n",
      "[28.57346078 31.41253922]\n",
      "[297, 297]\n",
      "[28.8460174 32.1839826]\n",
      "[298, 298]\n",
      "[27.9194109 31.0405891]\n",
      "[299, 299]\n",
      "[28.49337474 31.73262526]\n",
      "[300, 300]\n",
      "[28.24107516 31.54692484]\n",
      "[301, 301]\n",
      "[29.52866687 32.53933313]\n",
      "[302, 302]\n",
      "[29.41236076 32.30763924]\n",
      "[303, 303]\n",
      "[28.4256227 31.6163773]\n",
      "[304, 304]\n",
      "[28.13849621 31.27550379]\n",
      "[305, 305]\n",
      "[28.99739642 32.07660358]\n",
      "[306, 306]\n",
      "[28.65844796 32.04955204]\n",
      "[307, 307]\n",
      "[29.15682798 32.07917202]\n",
      "[308, 308]\n",
      "[28.11752013 30.85647987]\n",
      "[309, 309]\n",
      "[27.99778587 31.19821413]\n",
      "[310, 310]\n",
      "[29.21313411 31.78286589]\n",
      "[311, 311]\n",
      "[28.34600715 31.09599285]\n",
      "[312, 312]\n",
      "[27.51903623 30.35696377]\n",
      "[313, 313]\n",
      "[28.44214605 31.50385395]\n",
      "[314, 314]\n",
      "[29.85254178 33.27545822]\n",
      "[315, 315]\n",
      "[27.72142996 30.46857004]\n",
      "[316, 316]\n",
      "[28.35701521 31.44498479]\n",
      "[317, 317]\n",
      "[27.7258528 30.2141472]\n",
      "[318, 318]\n",
      "[28.23586553 31.27013447]\n",
      "[319, 319]\n",
      "[27.60711053 30.39088947]\n",
      "[320, 320]\n",
      "[29.17518526 32.24481474]\n",
      "[321, 321]\n",
      "[29.25856966 32.71943034]\n",
      "[322, 322]\n",
      "[27.82949297 31.04050703]\n",
      "[323, 323]\n",
      "[28.23489575 31.25110425]\n",
      "[324, 324]\n",
      "[28.81173882 32.11026118]\n",
      "[325, 325]\n",
      "[28.49552897 31.43447103]\n",
      "[326, 326]\n",
      "[28.01756234 31.14843766]\n",
      "[327, 327]\n",
      "[27.6616753 30.6983247]\n",
      "[328, 328]\n",
      "[28.40592322 31.78807678]\n",
      "[329, 329]\n",
      "[27.8810155 30.8069845]\n",
      "[330, 330]\n",
      "[29.41412498 32.59387502]\n",
      "[331, 331]\n",
      "[29.11860762 32.15139238]\n",
      "[332, 332]\n",
      "[28.53993337 31.58006663]\n",
      "[333, 333]\n",
      "[28.5133891 31.2346109]\n",
      "[334, 334]\n",
      "[28.01920912 31.17479088]\n",
      "[335, 335]\n",
      "[28.41589972 31.32010028]\n",
      "[336, 336]\n",
      "[27.44876633 30.28123367]\n",
      "[337, 337]\n",
      "[27.93274274 30.56925726]\n",
      "[338, 338]\n",
      "[27.95853752 30.80946248]\n",
      "[339, 339]\n",
      "[28.97202854 32.04997146]\n",
      "[340, 340]\n",
      "[28.625322 32.258678]\n",
      "[341, 341]\n",
      "[27.62010954 30.94389046]\n",
      "[342, 342]\n",
      "[29.20251439 32.24748561]\n",
      "[343, 343]\n",
      "[27.67131281 30.85268719]\n",
      "[344, 344]\n",
      "[28.85039692 31.83960308]\n",
      "[345, 345]\n",
      "[27.50862279 30.38937721]\n",
      "[346, 346]\n",
      "[29.20466543 32.34133457]\n",
      "[347, 347]\n",
      "[29.74240257 32.88559743]\n",
      "[348, 348]\n",
      "[29.14224145 32.48375855]\n",
      "[349, 349]\n",
      "[27.39386833 30.79213167]\n",
      "[350, 350]\n",
      "[27.8813347 30.7646653]\n",
      "[351, 351]\n",
      "[28.47430161 31.81369839]\n",
      "[352, 352]\n",
      "[29.10470004 31.85729996]\n",
      "[353, 353]\n",
      "[29.45175318 32.47624682]\n",
      "[354, 354]\n",
      "[28.31447366 31.63552634]\n",
      "[355, 355]\n",
      "[28.34846235 31.40153765]\n",
      "[356, 356]\n",
      "[28.01028966 30.74971034]\n",
      "[357, 357]\n",
      "[28.73820015 31.99779985]\n",
      "[358, 358]\n",
      "[28.54059537 31.46340463]\n",
      "[359, 359]\n",
      "[29.14624858 32.35975142]\n",
      "[360, 360]\n",
      "[27.43101169 30.15898831]\n",
      "[361, 361]\n",
      "[27.81302371 30.72897629]\n",
      "[362, 362]\n",
      "[27.54540357 30.36259643]\n",
      "[363, 363]\n",
      "[28.25106968 30.94093032]\n",
      "[364, 364]\n",
      "[29.23979158 32.51020842]\n",
      "[365, 365]\n",
      "[27.81639992 30.65560008]\n",
      "[366, 366]\n",
      "[26.79556016 29.78443984]\n",
      "[367, 367]\n",
      "[28.099619 30.756381]\n",
      "[368, 368]\n",
      "[27.91486843 30.41713157]\n",
      "[369, 369]\n",
      "[28.48157078 31.74242922]\n",
      "[370, 370]\n",
      "[28.99170549 31.70429451]\n",
      "[371, 371]\n",
      "[28.07425191 31.49974809]\n",
      "[372, 372]\n",
      "[28.24350946 31.50649054]\n",
      "[373, 373]\n",
      "[28.74748697 32.46251303]\n",
      "[374, 374]\n",
      "[28.87959428 32.23240572]\n",
      "[375, 375]\n",
      "[28.00728613 30.86471387]\n",
      "[376, 376]\n",
      "[28.85931882 32.14868118]\n",
      "[377, 377]\n",
      "[29.4910753 32.9669247]\n",
      "[378, 378]\n",
      "[28.76889329 31.64910671]\n",
      "[379, 379]\n",
      "[28.34386101 31.53013899]\n",
      "[380, 380]\n",
      "[29.51941266 32.69458734]\n",
      "[381, 381]\n",
      "[28.44101671 31.69498329]\n",
      "[382, 382]\n",
      "[28.97339163 32.39260837]\n",
      "[383, 383]\n",
      "[28.45516528 31.74483472]\n",
      "[384, 384]\n",
      "[27.82540634 30.81259366]\n",
      "[385, 385]\n",
      "[28.3387368 31.2492632]\n",
      "[386, 386]\n",
      "[27.29813659 30.06186341]\n",
      "[387, 387]\n",
      "[27.76209192 30.89790808]\n",
      "[388, 388]\n",
      "[28.70901642 32.18098358]\n",
      "[389, 389]\n",
      "[29.33889538 32.26110462]\n",
      "[390, 390]\n",
      "[26.49150528 29.13249472]\n",
      "[391, 391]\n",
      "[29.29599947 32.39800053]\n",
      "[392, 392]\n",
      "[28.04868832 30.87331168]\n",
      "[393, 393]\n",
      "[27.49911175 30.46288825]\n",
      "[394, 394]\n",
      "[29.62045755 32.34354245]\n",
      "[395, 395]\n",
      "[28.75883659 31.82516341]\n",
      "[396, 396]\n",
      "[29.28762269 32.47237731]\n",
      "[397, 397]\n",
      "[28.21286332 31.19913668]\n",
      "[398, 398]\n",
      "[28.49955067 31.43244933]\n",
      "[399, 399]\n",
      "[28.9082605 31.6737395]\n",
      "[400, 400]\n",
      "[28.68021263 31.36978737]\n",
      "[401, 401]\n",
      "[28.0509462 30.9490538]\n",
      "[402, 402]\n",
      "[27.58710863 30.41889137]\n",
      "[403, 403]\n",
      "[27.82859643 30.71540357]\n",
      "[404, 404]\n",
      "[28.43598269 31.71401731]\n",
      "[405, 405]\n",
      "[28.36103267 31.38296733]\n",
      "[406, 406]\n",
      "[29.77683048 32.80716952]\n",
      "[407, 407]\n",
      "[28.69686502 31.67313498]\n",
      "[408, 408]\n",
      "[29.55457417 32.44742583]\n",
      "[409, 409]\n",
      "[28.93618118 32.05181882]\n",
      "[410, 410]\n",
      "[27.2982408 30.0917592]\n",
      "[411, 411]\n",
      "[28.77633 31.69167]\n",
      "[412, 412]\n",
      "[28.97371269 31.94028731]\n",
      "[413, 413]\n",
      "[29.1474452 32.2945548]\n",
      "[414, 414]\n",
      "[29.082288 32.047712]\n",
      "[415, 415]\n",
      "[28.39626999 31.08773001]\n",
      "[416, 416]\n",
      "[27.56475969 30.29924031]\n",
      "[417, 417]\n",
      "[28.57898328 31.44701672]\n",
      "[418, 418]\n",
      "[27.81626641 31.21773359]\n",
      "[419, 419]\n",
      "[28.08121135 30.94878865]\n",
      "[420, 420]\n",
      "[28.48677784 31.68522216]\n",
      "[421, 421]\n",
      "[27.71149053 30.91850947]\n",
      "[422, 422]\n",
      "[26.46793027 28.91206973]\n",
      "[423, 423]\n",
      "[29.70427444 33.27172556]\n",
      "[424, 424]\n",
      "[27.67753088 30.58846912]\n",
      "[425, 425]\n",
      "[28.31266414 31.59533586]\n",
      "[426, 426]\n",
      "[29.2508026 32.5631974]\n",
      "[427, 427]\n",
      "[28.05321632 31.15078368]\n",
      "[428, 428]\n",
      "[28.68854086 31.59145914]\n",
      "[429, 429]\n",
      "[29.28358592 32.75641408]\n",
      "[430, 430]\n",
      "[29.64689357 32.92510643]\n",
      "[431, 431]\n",
      "[28.50495836 32.14104164]\n",
      "[432, 432]\n",
      "[27.83265819 31.14534181]\n",
      "[433, 433]\n",
      "[27.48980253 30.34019747]\n",
      "[434, 434]\n",
      "[29.14396498 32.04003502]\n",
      "[435, 435]\n",
      "[28.5880678 31.6219322]\n",
      "[436, 436]\n",
      "[28.19509695 31.57290305]\n",
      "[437, 437]\n",
      "[29.5725435 32.6634565]\n",
      "[438, 438]\n",
      "[27.72027759 30.67572241]\n",
      "[439, 439]\n",
      "[28.73275783 31.82724217]\n",
      "[440, 440]\n",
      "[27.6401232 30.4698768]\n",
      "[441, 441]\n",
      "[28.10899888 30.77300112]\n",
      "[442, 442]\n",
      "[28.40063791 31.51336209]\n",
      "[443, 443]\n",
      "[29.45695614 32.47904386]\n",
      "[444, 444]\n",
      "[28.95161445 32.32438555]\n",
      "[445, 445]\n",
      "[27.06287981 29.87112019]\n",
      "[446, 446]\n",
      "[27.86152139 31.06447861]\n",
      "[447, 447]\n",
      "[27.65696747 30.38703253]\n",
      "[448, 448]\n",
      "[27.70952614 30.63647386]\n",
      "[449, 449]\n",
      "[28.17675102 31.21324898]\n",
      "[450, 450]\n",
      "[28.43699548 31.72900452]\n",
      "[451, 451]\n",
      "[28.68520476 31.42079524]\n",
      "[452, 452]\n",
      "[27.72720117 30.34879883]\n",
      "[453, 453]\n",
      "[27.96518871 31.04881129]\n",
      "[454, 454]\n",
      "[27.72059169 30.29540831]\n",
      "[455, 455]\n",
      "[28.58341636 31.54658364]\n",
      "[456, 456]\n",
      "[28.22607872 31.52792128]\n",
      "[457, 457]\n",
      "[27.77807206 30.54592794]\n",
      "[458, 458]\n",
      "[26.83812223 29.95787777]\n",
      "[459, 459]\n",
      "[29.1944171 32.0435829]\n",
      "[460, 460]\n",
      "[27.68317269 30.75082731]\n",
      "[461, 461]\n",
      "[29.1608918 32.4871082]\n",
      "[462, 462]\n",
      "[28.35222247 31.52177753]\n",
      "[463, 463]\n",
      "[28.44196091 31.62603909]\n",
      "[464, 464]\n",
      "[27.89639307 30.85560693]\n",
      "[465, 465]\n",
      "[27.75006021 30.60593979]\n",
      "[466, 466]\n",
      "[29.68651582 32.88548418]\n",
      "[467, 467]\n",
      "[28.59097305 31.26702695]\n",
      "[468, 468]\n",
      "[27.77828487 30.47971513]\n",
      "[469, 469]\n",
      "[29.54004458 32.11795542]\n",
      "[470, 470]\n",
      "[28.39128671 31.39071329]\n",
      "[471, 471]\n",
      "[28.65949376 31.66850624]\n",
      "[472, 472]\n",
      "[29.23883304 32.30516696]\n",
      "[473, 473]\n",
      "[29.67297304 32.44902696]\n",
      "[474, 474]\n",
      "[28.72695306 32.03704694]\n",
      "[475, 475]\n",
      "[27.92462864 31.00337136]\n",
      "[476, 476]\n",
      "[27.07284459 29.41115541]\n",
      "[477, 477]\n",
      "[29.24200971 32.57199029]\n",
      "[478, 478]\n",
      "[28.45846656 31.74153344]\n",
      "[479, 479]\n",
      "[27.92888261 30.87511739]\n",
      "[480, 480]\n",
      "[28.8519652 31.9040348]\n",
      "[481, 481]\n",
      "[29.03050282 31.73749718]\n",
      "[482, 482]\n",
      "[29.47201725 32.27198275]\n",
      "[483, 483]\n",
      "[27.49476447 30.19523553]\n",
      "[484, 484]\n",
      "[28.52020805 31.75179195]\n",
      "[485, 485]\n",
      "[28.30955071 31.39644929]\n",
      "[486, 486]\n",
      "[28.1266201 30.9253799]\n",
      "[487, 487]\n",
      "[28.3677903 31.2362097]\n",
      "[488, 488]\n",
      "[28.2225324 31.0854676]\n",
      "[489, 489]\n",
      "[28.16044005 30.44155995]\n",
      "[490, 490]\n",
      "[28.30654297 31.46145703]\n",
      "[491, 491]\n",
      "[29.37285029 32.74914971]\n",
      "[492, 492]\n",
      "[27.94274369 30.84325631]\n",
      "[493, 493]\n",
      "[29.16161892 31.81638108]\n",
      "[494, 494]\n",
      "[28.40919504 31.35480496]\n",
      "[495, 495]\n",
      "[29.27854608 32.52945392]\n",
      "[496, 496]\n",
      "[29.28455517 32.57144483]\n",
      "[497, 497]\n",
      "[27.5676803 30.2963197]\n",
      "[498, 498]\n",
      "[29.32744491 32.55255509]\n",
      "[499, 499]\n",
      "[29.00440184 32.20559816]\n"
     ]
    }
   ],
   "source": [
    "ci = all_cis[0]\n",
    "for j, x in enumerate(ci):\n",
    "    print([j,j])\n",
    "    print(x)"
   ]
  },
  {
   "cell_type": "markdown",
   "metadata": {},
   "source": [
    "It is also informative to plot the individual confidence intervals, computed for 500 subsamples of size 100, to see how they vary.  The vertical grey bars below each correspond to a confidence interval.  The red horizontal line is the mean BMI calculated using the entire data set, which can be taken as a proxy for othe population mean.  While the individual intervals are quite different from each other, it appears that the vast majority of them cover the population value."
   ]
  },
  {
   "cell_type": "code",
   "execution_count": 49,
   "metadata": {},
   "outputs": [
    {
     "data": {
      "text/plain": [
       "[<matplotlib.lines.Line2D at 0x7fc65026a710>]"
      ]
     },
     "execution_count": 49,
     "metadata": {},
     "output_type": "execute_result"
    },
    {
     "data": {
      "image/png": "[encoded data removed]",
      "text/plain": [
       "<Figure size 432x288 with 1 Axes>"
      ]
     },
     "metadata": {},
     "output_type": "display_data"
    }
   ],
   "source": [
    "ci = all_cis[0]\n",
    "for j, x in enumerate(ci):\n",
    "    plt.plot([j,j], x, color='grey')\n",
    "    plt.gca().set_ylabel(\"BMI\")\n",
    "mn = dx.BMXBMI.mean()\n",
    "plt.plot([0, 500], [mn, mn], color='red')"
   ]
  },
  {
   "cell_type": "markdown",
   "metadata": {},
   "source": [
    "We can calculate the fraction of the 500 simulated confidence intervals that did not cover the target value.  This is called the \"non-coverage probability\".  There are two ways for an interval to fail to cover the target -- either the upper limit of the interval can fall below the target, or the lower limit of the interval can fall above the target.  We calculate each of these below.  The sum of these two probabilities should be around 0.05, which is the allowed proportion of the time that a 95% confidence interval does not cover its target."
   ]
  },
  {
   "cell_type": "code",
   "execution_count": 53,
   "metadata": {},
   "outputs": [
    {
     "data": {
      "text/plain": [
       "array([False, False, False, False, False, False,  True, False, False,\n",
       "       False, False, False, False, False, False, False, False, False,\n",
       "       False, False, False, False, False, False, False, False, False,\n",
       "       False, False, False, False, False, False, False, False, False,\n",
       "       False, False, False, False, False, False, False, False, False,\n",
       "       False, False, False, False, False, False, False, False, False,\n",
       "       False, False, False, False, False, False, False, False, False,\n",
       "       False, False, False, False, False, False, False, False, False,\n",
       "       False, False, False, False, False, False, False, False, False,\n",
       "       False, False, False, False, False, False, False, False, False,\n",
       "       False, False, False, False, False, False, False, False, False,\n",
       "       False, False, False, False, False, False, False, False, False,\n",
       "       False, False, False, False, False, False, False, False, False,\n",
       "       False, False, False, False, False, False, False, False, False,\n",
       "       False, False, False, False, False, False, False, False, False,\n",
       "       False, False, False, False, False, False, False, False, False,\n",
       "       False, False, False, False, False, False, False, False, False,\n",
       "       False, False, False, False, False,  True, False, False, False,\n",
       "        True, False,  True, False, False, False, False, False, False,\n",
       "       False, False, False, False, False, False, False, False, False,\n",
       "       False, False, False, False, False, False, False, False,  True,\n",
       "       False, False, False, False, False, False, False, False, False,\n",
       "       False, False,  True, False, False, False, False, False, False,\n",
       "       False, False, False, False, False,  True, False, False, False,\n",
       "       False, False, False, False, False, False, False, False, False,\n",
       "       False, False, False, False, False, False, False, False, False,\n",
       "       False, False, False, False, False,  True, False, False, False,\n",
       "        True, False, False, False, False, False, False, False, False,\n",
       "       False, False, False, False, False, False, False, False, False,\n",
       "        True, False, False, False, False, False, False, False, False,\n",
       "       False, False, False, False, False, False, False, False, False,\n",
       "       False, False, False, False, False, False, False, False, False,\n",
       "       False, False, False, False, False, False, False, False, False,\n",
       "       False, False, False, False, False, False, False, False, False,\n",
       "       False, False, False, False, False, False, False, False, False,\n",
       "       False, False, False, False, False, False, False, False, False,\n",
       "       False, False, False, False, False, False, False, False, False,\n",
       "       False, False, False, False, False, False, False, False, False,\n",
       "       False, False, False, False, False, False, False, False, False,\n",
       "       False, False, False, False, False, False, False, False, False,\n",
       "       False, False, False, False, False, False,  True, False, False,\n",
       "       False, False, False, False, False, False, False, False, False,\n",
       "       False, False, False, False, False, False, False, False, False,\n",
       "       False, False, False,  True, False, False, False, False, False,\n",
       "       False, False, False, False, False, False, False, False, False,\n",
       "       False, False, False, False, False, False, False, False, False,\n",
       "       False, False, False, False, False, False, False, False,  True,\n",
       "       False, False, False, False, False, False, False, False, False,\n",
       "       False, False, False, False, False, False, False, False, False,\n",
       "       False, False, False, False,  True, False, False, False, False,\n",
       "       False, False, False, False, False, False, False, False, False,\n",
       "       False, False, False, False, False, False, False, False, False,\n",
       "       False, False, False, False, False, False, False, False,  True,\n",
       "       False, False, False, False, False, False, False, False, False,\n",
       "       False, False, False, False, False, False, False, False, False,\n",
       "       False, False, False, False, False])"
      ]
     },
     "execution_count": 53,
     "metadata": {},
     "output_type": "execute_result"
    }
   ],
   "source": [
    "ci[:, 1] < mn"
   ]
  },
  {
   "cell_type": "code",
   "execution_count": 176,
   "metadata": {},
   "outputs": [
    {
     "name": "stdout",
     "output_type": "stream",
     "text": [
      "0.03\n",
      "0.018\n"
     ]
    }
   ],
   "source": [
    "print(np.mean(ci[:, 1] < mn)) # Upper limit falls below the target\n",
    "print(np.mean(ci[:, 0] > mn)) # Lower limit falls above the target"
   ]
  }
 ],
 "metadata": {
  "kernelspec": {
   "display_name": "Python 3",
   "language": "python",
   "name": "python3"
  },
  "language_info": {
   "codemirror_mode": {
    "name": "ipython",
    "version": 3
   },
   "file_extension": ".py",
   "mimetype": "text/x-python",
   "name": "python",
   "nbconvert_exporter": "python",
   "pygments_lexer": "ipython3",
   "version": "3.6.3"
  }
 },
 "nbformat": 4,
 "nbformat_minor": 1
}
