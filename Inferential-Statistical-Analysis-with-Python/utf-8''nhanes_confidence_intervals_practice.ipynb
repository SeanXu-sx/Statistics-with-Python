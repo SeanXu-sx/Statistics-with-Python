{
 "cells": [
  {
   "cell_type": "markdown",
   "metadata": {},
   "source": [
    "# Practice notebook for confidence intervals using NHANES data\n",
    "\n",
    "This notebook will give you the opportunity to practice working with confidence intervals using the NHANES data.\n",
    "\n",
    "You can enter your code into the cells that say \"enter your code here\", and you can type responses to the questions into the cells that say \"Type Markdown and Latex\".\n",
    "\n",
    "Note that most of the code that you will need to write below is very similar to code that appears in the case study notebook.  You will need to edit code from that notebook in small ways to adapt it to the prompts below.\n",
    "\n",
    "To get started, we will use the same module imports and read the data in the same way as we did in the case study:"
   ]
  },
  {
   "cell_type": "code",
   "execution_count": 1,
   "metadata": {},
   "outputs": [],
   "source": [
    "%matplotlib inline\n",
    "import matplotlib.pyplot as plt\n",
    "import pandas as pd\n",
    "import numpy as np\n",
    "import seaborn as sns\n",
    "import statsmodels.api as sm\n",
    "\n",
    "da = pd.read_csv(\"nhanes_2015_2016.csv\")"
   ]
  },
  {
   "cell_type": "markdown",
   "metadata": {},
   "source": [
    "## Question 1\n",
    "\n",
    "Restrict the sample to women between 35 and 50, then use the marital status variable [DMDMARTL](https://wwwn.cdc.gov/Nchs/Nhanes/2015-2016/DEMO_I.htm#DMDMARTL) to partition this sample into two groups - women who are currently married, and women who are not currently married.  Within each of these groups, calculate the proportion of women who have completed college.  Calculate 95% confidence intervals for each of these proportions."
   ]
  },
  {
   "cell_type": "code",
   "execution_count": 67,
   "metadata": {},
   "outputs": [
    {
     "data": {
      "text/plain": [
       "((0.3485113362414855, 0.4164187781168372),\n",
       " (0.06449740922227812, 0.10322813080313484))"
      ]
     },
     "execution_count": 67,
     "metadata": {},
     "output_type": "execute_result"
    }
   ],
   "source": [
    "# enter your code here\n",
    "df_woman = da[da['RIAGENDR'] == 2]\n",
    "df_woman = df_woman[(df_woman['RIDAGEYR'] >= 35) & (df_woman['RIDAGEYR'] <= 50)]\n",
    "woman_married = df_woman[df_woman['DMDMARTL'] == 1.0]\n",
    "woman_not_married = df_woman[df_woman['DMDMARTL'] == 5.0]\n",
    "woman_married_college = woman_married[(woman_married['DMDEDUC2'] == 4) | (woman_married['DMDEDUC2'] == 5)]\n",
    "# woman_married_college = woman_married.loc[(woman_married['DMDEDUC2'] == 4) | (woman_married['DMDEDUC2'] == 5), :]\n",
    "woman_not_married_college = woman_not_married[(woman_not_married['DMDEDUC2'] == 4) | (woman_not_married['DMDEDUC2'] == 5)]\n",
    "\n",
    "married = sm.stats.proportion_confint(woman_married_college['DMDEDUC2'].count(), df_woman['DMDMARTL'].count())\n",
    "not_married = sm.stats.proportion_confint(woman_not_married_college['DMDEDUC2'].count(), df_woman['DMDMARTL'].count())\n",
    "(married, not_married)"
   ]
  },
  {
   "cell_type": "markdown",
   "metadata": {},
   "source": [
    "__Q1a.__ Identify which of the two confidence intervals is wider, and explain why this is the case. "
   ]
  },
  {
   "cell_type": "markdown",
   "metadata": {},
   "source": []
  },
  {
   "cell_type": "markdown",
   "metadata": {},
   "source": [
    "__Q1b.__ Write 1-2 sentences summarizing these findings for an audience that does not know what a confidence interval is (the goal here is to report the substance of what you learned about how marital status and educational attainment are related, not to teach a person what a confidence interval is)."
   ]
  },
  {
   "cell_type": "markdown",
   "metadata": {},
   "source": []
  },
  {
   "cell_type": "markdown",
   "metadata": {},
   "source": [
    "## Question 2\n",
    "\n",
    "Construct 95% confidence intervals for the proportion of smokers who are female, and for the proportion of smokers who are male.  Then construct a 95% confidence interval for the difference between these proportions."
   ]
  },
  {
   "cell_type": "code",
   "execution_count": 66,
   "metadata": {},
   "outputs": [
    {
     "data": {
      "text/plain": [
       "(0.18278196335791153, 0.2326312298280253)"
      ]
     },
     "execution_count": 66,
     "metadata": {},
     "output_type": "execute_result"
    }
   ],
   "source": [
    "# enter your code here\n",
    "da['RIAGENDRx'] = da['RIAGENDR'].replace({1 : 'Male', 2 : 'Female'})\n",
    "# da['SMQ020x'] = da['SMQ020'].replace({1 : 'Yes', 2 : 'No'})\n",
    "df = da[['SMQ020', 'RIAGENDRx']]\n",
    "p = df.groupby('RIAGENDRx')['SMQ020'].agg([lambda x : np.mean(x == 1), np.size])\n",
    "p.columns = ['Smoke', 'Size']\n",
    "p_male = p.loc['Male']['Smoke']\n",
    "p_female = p.loc['Female']['Smoke']\n",
    "p_diff = p_male - p_female\n",
    "se = np.sqrt(((p_male * (1 - p_male)) / p.loc['Male']['Size']) + ((p_female * (1 - p_female)) / p.loc['Female']['Size']))\n",
    "lcb = p_diff - 1.96 * se\n",
    "ucb = p_diff + 1.96 * se\n",
    "(lcb, ucb)\n",
    "\n"
   ]
  },
  {
   "cell_type": "markdown",
   "metadata": {},
   "source": [
    "__Q2a.__ Discuss why it may be relevant to report the proportions of smokers who are female and male, and contrast this to reporting the proportions of males and females who smoke."
   ]
  },
  {
   "cell_type": "markdown",
   "metadata": {},
   "source": []
  },
  {
   "cell_type": "markdown",
   "metadata": {},
   "source": [
    "__Q2b.__ How does the width of the confidence interval for the difference of the two proportions compare to the widths of the confidence intervals for each proportion separately?"
   ]
  },
  {
   "cell_type": "markdown",
   "metadata": {},
   "source": []
  },
  {
   "cell_type": "markdown",
   "metadata": {},
   "source": [
    "## Question 3\n",
    "\n",
    "Construct a 95% interval for height ([BMXHT](https://wwwn.cdc.gov/Nchs/Nhanes/2015-2016/BMX_I.htm#BMXHT)) in centimeters.  Then convert height from centimeters to inches by dividing by 2.54, and construct a 95% confidence interval for height in inches.  Finally, convert the endpoints (the lower and upper confidence limits) of the confidence interval from inches to back to centimeters   "
   ]
  },
  {
   "cell_type": "code",
   "execution_count": 10,
   "metadata": {},
   "outputs": [
    {
     "data": {
      "text/plain": [
       "(165.88055125872887, 166.4051176994943)"
      ]
     },
     "execution_count": 10,
     "metadata": {},
     "output_type": "execute_result"
    }
   ],
   "source": [
    "# enter your code here\n",
    "da['BMXHT_inch'] = da['BMXHT'] / 2.54\n",
    "heights_inch = sm.stats.DescrStatsW(da['BMXHT_inch'].dropna()).zconfint_mean()\n",
    "(heights_inch[0] * 2.54, heights_inch[1] * 2.54)"
   ]
  },
  {
   "cell_type": "markdown",
   "metadata": {},
   "source": [
    "__Q3a.__ Describe how the confidence interval constructed in centimeters relates to the confidence interval constructed in inches."
   ]
  },
  {
   "cell_type": "markdown",
   "metadata": {},
   "source": []
  },
  {
   "cell_type": "markdown",
   "metadata": {},
   "source": [
    "## Question 4\n",
    "\n",
    "Partition the sample based on 10-year age bands, i.e. the resulting groups will consist of people with ages from 18-28, 29-38, etc. Construct 95% confidence intervals for the difference between the mean BMI for females and for males within each age band."
   ]
  },
  {
   "cell_type": "code",
   "execution_count": 49,
   "metadata": {},
   "outputs": [
    {
     "data": {
      "text/html": [
       "<div>\n",
       "<style scoped>\n",
       "    .dataframe tbody tr th:only-of-type {\n",
       "        vertical-align: middle;\n",
       "    }\n",
       "\n",
       "    .dataframe tbody tr th {\n",
       "        vertical-align: top;\n",
       "    }\n",
       "\n",
       "    .dataframe thead th {\n",
       "        text-align: right;\n",
       "    }\n",
       "</style>\n",
       "<table border=\"1\" class=\"dataframe\">\n",
       "  <thead>\n",
       "    <tr style=\"text-align: right;\">\n",
       "      <th></th>\n",
       "      <th>lcb</th>\n",
       "      <th>ucb</th>\n",
       "    </tr>\n",
       "    <tr>\n",
       "      <th>agegrp</th>\n",
       "      <th></th>\n",
       "      <th></th>\n",
       "    </tr>\n",
       "  </thead>\n",
       "  <tbody>\n",
       "    <tr>\n",
       "      <th>(18, 28]</th>\n",
       "      <td>0.026381</td>\n",
       "      <td>1.896114</td>\n",
       "    </tr>\n",
       "    <tr>\n",
       "      <th>(28, 38]</th>\n",
       "      <td>-0.683705</td>\n",
       "      <td>1.176230</td>\n",
       "    </tr>\n",
       "    <tr>\n",
       "      <th>(38, 48]</th>\n",
       "      <td>0.570703</td>\n",
       "      <td>2.407470</td>\n",
       "    </tr>\n",
       "    <tr>\n",
       "      <th>(48, 58]</th>\n",
       "      <td>0.484714</td>\n",
       "      <td>2.319745</td>\n",
       "    </tr>\n",
       "    <tr>\n",
       "      <th>(58, 68]</th>\n",
       "      <td>0.933853</td>\n",
       "      <td>2.710551</td>\n",
       "    </tr>\n",
       "    <tr>\n",
       "      <th>(68, 80]</th>\n",
       "      <td>0.424001</td>\n",
       "      <td>1.890731</td>\n",
       "    </tr>\n",
       "  </tbody>\n",
       "</table>\n",
       "</div>"
      ],
      "text/plain": [
       "               lcb       ucb\n",
       "agegrp                      \n",
       "(18, 28]  0.026381  1.896114\n",
       "(28, 38] -0.683705  1.176230\n",
       "(38, 48]  0.570703  2.407470\n",
       "(48, 58]  0.484714  2.319745\n",
       "(58, 68]  0.933853  2.710551\n",
       "(68, 80]  0.424001  1.890731"
      ]
     },
     "execution_count": 49,
     "metadata": {},
     "output_type": "execute_result"
    }
   ],
   "source": [
    "# enter your code here\n",
    "da['agegrp'] = pd.cut(da['RIDAGEYR'], [18, 28, 38, 48, 58, 68, 80])\n",
    "da['RIAGENDRx'] = da['RIAGENDR'].replace({1 : 'Male', 2 : 'Female'})\n",
    "new_df = da.groupby(['agegrp', 'RIAGENDRx'])['BMXBMI'].agg([np.mean, np.std, np.size]).unstack()\n",
    "mean_diff = new_df['mean']['Female'] - new_df['mean']['Male']\n",
    "se = np.sqrt((new_df['std']['Female'] ** 2 / new_df['size']['Female']) + (new_df['std']['Male'] ** 2 / new_df['size']['Male']))\n",
    "lcb = mean_diff - 1.96 * se\n",
    "ucb = mean_diff + 1.96 * se\n",
    "# (lcb, ucb)\n",
    "# Alternatives:\n",
    "lcb_df = pd.DataFrame(lcb)\n",
    "lcb_df.columns = ['lcb']\n",
    "ucb_df = pd.DataFrame(ucb)\n",
    "ucb_df.columns = ['ucb']\n",
    "pd.merge(lcb_df, ucb_df, how = 'outer', left_index = True, right_index = True)\n",
    "\n"
   ]
  },
  {
   "cell_type": "markdown",
   "metadata": {},
   "source": [
    "__Q4a.__ How do the widths of these confidence intervals differ?  Provide an explanation for any substantial diferences in the confidence interval widths that you see."
   ]
  },
  {
   "cell_type": "markdown",
   "metadata": {},
   "source": [
    "## Question 5\n",
    "\n",
    "Construct a 95% confidence interval for the first and second systolic blood pressure measures, and for the difference between the first and second systolic blood pressure measurements within a subject."
   ]
  },
  {
   "cell_type": "code",
   "execution_count": 81,
   "metadata": {},
   "outputs": [
    {
     "data": {
      "text/plain": [
       "(-0.9788778999206423, 0.3756843061751548)"
      ]
     },
     "execution_count": 81,
     "metadata": {},
     "output_type": "execute_result"
    }
   ],
   "source": [
    "# enter code here\n",
    "# sm.stats.DescrStatsW(da.BPXSY1.fillna(method = 'ffill'), da.BPXSY2.fillna(method = 'ffill')).zconfint_mean()\n",
    "\n",
    "mean_diff = da.BPXSY2.mean() - da.BPXSY1.mean()\n",
    "se = np.sqrt((da.BPXSY2.std() ** 2 / da.BPXSY2.size) + (da.BPXSY1.std() ** 2 / da.BPXSY1.size))\n",
    "lcb = mean_diff - 1.96 * se\n",
    "ucb = mean_diff + 1.96 * se\n",
    "(lcb, ucb)"
   ]
  },
  {
   "cell_type": "markdown",
   "metadata": {},
   "source": [
    "__Q5a.__ Based on these confidence intervals, would you say that a difference of zero between the population mean values of the first and second systolic blood pressure measures is consistent with the data?"
   ]
  },
  {
   "cell_type": "markdown",
   "metadata": {},
   "source": []
  },
  {
   "cell_type": "markdown",
   "metadata": {},
   "source": [
    "__Q5b.__ Discuss how the width of the confidence interval for the within-subject difference compares to the widths of the confidence intervals for the first and second measures."
   ]
  },
  {
   "cell_type": "markdown",
   "metadata": {},
   "source": []
  },
  {
   "cell_type": "markdown",
   "metadata": {},
   "source": [
    "## Question 6\n",
    "\n",
    "Construct a 95% confidence interval for the mean difference between the average age of a smoker, and the average age of a non-smoker."
   ]
  },
  {
   "cell_type": "code",
   "execution_count": 2,
   "metadata": {},
   "outputs": [
    {
     "data": {
      "text/plain": [
       "(5.891821038686713, 7.781694511200259)"
      ]
     },
     "execution_count": 2,
     "metadata": {},
     "output_type": "execute_result"
    }
   ],
   "source": [
    "# insert your code here\n",
    "da['SMQ020x'] = da['SMQ020'].replace({1 : 'Smoker', 2 : 'Non-Smoker', 7 : np.nan, 9 : np.nan}).dropna()\n",
    "df = da.groupby('SMQ020x')['RIDAGEYR'].agg([np.mean, np.std, np.size])\n",
    "mean_diff = df.loc['Smoker']['mean'] - df.loc['Non-Smoker']['mean']\n",
    "se = np.sqrt((df.loc['Smoker']['std'] ** 2 / df.loc['Smoker']['size']) + (df.loc['Non-Smoker']['std'] ** 2 / df.loc['Non-Smoker']['size']))\n",
    "lcb = mean_diff - 1.96 * se\n",
    "ucb = mean_diff + 1.96 * se\n",
    "(lcb, ucb)"
   ]
  },
  {
   "cell_type": "markdown",
   "metadata": {},
   "source": [
    "__Q6a.__ Use graphical and numerical techniques to compare the variation in the ages of smokers to the variation in the ages of non-smokers.  "
   ]
  },
  {
   "cell_type": "code",
   "execution_count": 5,
   "metadata": {},
   "outputs": [
    {
     "name": "stdout",
     "output_type": "stream",
     "text": [
      "            Standard Diviation\n",
      "SMQ020x                       \n",
      "Non-Smoker           18.543286\n",
      "Smoker               17.461141\n"
     ]
    },
    {
     "data": {
      "text/plain": [
       "Text(0.5,0,'Age')"
      ]
     },
     "execution_count": 5,
     "metadata": {},
     "output_type": "execute_result"
    },
    {
     "data": {
      "image/png": "[encoded data removed]",
      "text/plain": [
       "<Figure size 432x288 with 1 Axes>"
      ]
     },
     "metadata": {},
     "output_type": "display_data"
    }
   ],
   "source": [
    "# insert your code here\n",
    "std = da.groupby('SMQ020x')['RIDAGEYR'].agg({'Standard Diviation': np.std})\n",
    "print(std)\n",
    "\n",
    "sns.boxplot(da['RIDAGEYR'], da['SMQ020x'])\n",
    "plt.xlabel('Age')"
   ]
  },
  {
   "cell_type": "markdown",
   "metadata": {},
   "source": [
    "__Q6b.__ Does it appear that uncertainty about the mean age of smokers, or uncertainty about the mean age of non-smokers contributed more to the uncertainty for the mean difference that we are focusing on here?"
   ]
  },
  {
   "cell_type": "markdown",
   "metadata": {},
   "source": []
  }
 ],
 "metadata": {
  "kernelspec": {
   "display_name": "Python 3",
   "language": "python",
   "name": "python3"
  },
  "language_info": {
   "codemirror_mode": {
    "name": "ipython",
    "version": 3
   },
   "file_extension": ".py",
   "mimetype": "text/x-python",
   "name": "python",
   "nbconvert_exporter": "python",
   "pygments_lexer": "ipython3",
   "version": "3.6.3"
  }
 },
 "nbformat": 4,
 "nbformat_minor": 2
}
