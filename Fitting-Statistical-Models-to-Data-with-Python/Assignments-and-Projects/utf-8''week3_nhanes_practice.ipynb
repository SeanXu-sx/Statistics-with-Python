{
 "cells": [
  {
   "cell_type": "markdown",
   "metadata": {},
   "source": [
    "# Practice notebook for regression analysis with dependent data in NHANES\n",
    "\n",
    "This notebook will give you the opportunity to perform some analyses\n",
    "using the regression methods for dependent data that we are focusing\n",
    "on in this week of the course.\n",
    "\n",
    "Enter the code in response to each question in the boxes labeled \"enter your code here\".\n",
    "Then enter your responses to the questions in the boxes labeled \"Type\n",
    "Markdown and Latex\".\n",
    "\n",
    "This notebook is based on the NHANES case study notebook for\n",
    "regression with dependent data.  Most of the code that you will need\n",
    "to write below is very similar to code that appears in the case study\n",
    "notebook.  You will need to edit code from that notebook in small ways\n",
    "to adapt it to the prompts below.\n",
    "\n",
    "To get started, we will use the same module imports and read the data\n",
    "in the same way as we did in the case study:"
   ]
  },
  {
   "cell_type": "code",
   "execution_count": 5,
   "metadata": {},
   "outputs": [],
   "source": [
    "%matplotlib inline\n",
    "import matplotlib.pyplot as plt\n",
    "import seaborn as sns\n",
    "import pandas as pd\n",
    "import statsmodels.api as sm\n",
    "import numpy as np\n",
    "\n",
    "url = \"nhanes_2015_2016.csv\"\n",
    "da = pd.read_csv(url)\n",
    "\n",
    "# Drop unused columns, drop rows with any missing values.\n",
    "vars = [\"BPXSY1\", \"BPXDI1\", \"RIDAGEYR\", \"RIAGENDR\", \"RIDRETH1\", \"DMDEDUC2\", \"BMXBMI\",\n",
    "        \"SMQ020\", \"SDMVSTRA\", \"SDMVPSU\"]\n",
    "da = da[vars].dropna()\n",
    "\n",
    "# This is the grouping variable\n",
    "da[\"group\"] = 10*da.SDMVSTRA + da.SDMVPSU"
   ]
  },
  {
   "cell_type": "markdown",
   "metadata": {},
   "source": [
    "## Question 1: \n",
    "\n",
    "Build a marginal linear model using GEE for the first measurement of diastolic blood pressure (`BPXDI1`), accounting for the grouping variable defined above.  This initial model should have no covariates, and will be used to assess the ICC of this blood pressure measure."
   ]
  },
  {
   "cell_type": "code",
   "execution_count": 8,
   "metadata": {},
   "outputs": [
    {
     "name": "stdout",
     "output_type": "stream",
     "text": [
      "                               GEE Regression Results                              \n",
      "===================================================================================\n",
      "Dep. Variable:                      BPXDI1   No. Observations:                 5102\n",
      "Model:                                 GEE   No. clusters:                       30\n",
      "Method:                        Generalized   Min. cluster size:                 106\n",
      "                      Estimating Equations   Max. cluster size:                 226\n",
      "Family:                           Gaussian   Mean cluster size:               170.1\n",
      "Dependence structure:         Exchangeable   Num. iterations:                     5\n",
      "Date:                     Mon, 24 Feb 2020   Scale:                         162.315\n",
      "Covariance type:                    robust   Time:                         14:48:14\n",
      "==============================================================================\n",
      "                 coef    std err          z      P>|z|      [0.025      0.975]\n",
      "------------------------------------------------------------------------------\n",
      "Intercept     70.0088      0.419    167.219      0.000      69.188      70.829\n",
      "==============================================================================\n",
      "Skew:                         -0.6467   Kurtosis:                       3.8275\n",
      "Centered skew:                -0.6299   Centered kurtosis:              3.8513\n",
      "==============================================================================\n",
      "The correlation between two observations in the same cluster is 0.031\n"
     ]
    }
   ],
   "source": [
    "# enter your code here\n",
    "\n",
    "model = sm.GEE.from_formula('BPXDI1 ~ 1', groups = 'group', cov_struct = sm.cov_struct.Exchangeable(), data = da)\n",
    "result = model.fit()\n",
    "print(result.summary())\n",
    "print(result.cov_struct.summary())"
   ]
  },
  {
   "cell_type": "markdown",
   "metadata": {},
   "source": [
    "__Q1a.__ What is the ICC for diastolic blood pressure?  What can you\n",
    "  conclude by comparing it to the ICC for systolic blood pressure?"
   ]
  },
  {
   "cell_type": "markdown",
   "metadata": {},
   "source": []
  },
  {
   "cell_type": "markdown",
   "metadata": {},
   "source": [
    "## Question 2: \n",
    "\n",
    "Take your model from question 1, and add gender, age, and BMI to it as covariates."
   ]
  },
  {
   "cell_type": "code",
   "execution_count": 35,
   "metadata": {},
   "outputs": [
    {
     "name": "stdout",
     "output_type": "stream",
     "text": [
      "                               GEE Regression Results                              \n",
      "===================================================================================\n",
      "Dep. Variable:                      BPXDI1   No. Observations:                 5102\n",
      "Model:                                 GEE   No. clusters:                       30\n",
      "Method:                        Generalized   Min. cluster size:                 106\n",
      "                      Estimating Equations   Max. cluster size:                 226\n",
      "Family:                           Gaussian   Mean cluster size:               170.1\n",
      "Dependence structure:         Exchangeable   Num. iterations:                     7\n",
      "Date:                     Mon, 24 Feb 2020   Scale:                         158.611\n",
      "Covariance type:                    robust   Time:                         15:05:09\n",
      "=====================================================================================\n",
      "                        coef    std err          z      P>|z|      [0.025      0.975]\n",
      "-------------------------------------------------------------------------------------\n",
      "Intercept            65.3013      1.235     52.856      0.000      62.880      67.723\n",
      "RIAGENDRx[T.Male]     2.7422      0.402      6.828      0.000       1.955       3.529\n",
      "RIDAGEYR             -0.0409      0.014     -2.845      0.004      -0.069      -0.013\n",
      "BMXBMI                0.1839      0.030      6.218      0.000       0.126       0.242\n",
      "==============================================================================\n",
      "Skew:                         -0.6865   Kurtosis:                       3.9310\n",
      "Centered skew:                -0.6664   Centered kurtosis:              3.9656\n",
      "==============================================================================\n",
      "The correlation between two observations in the same cluster is 0.030\n"
     ]
    }
   ],
   "source": [
    "# enter your code here\n",
    "\n",
    "da[\"RIAGENDRx\"] = da.RIAGENDR.replace({1: \"Male\", 2: \"Female\"})\n",
    "\n",
    "model = sm.GEE.from_formula('BPXDI1 ~ RIDAGEYR + RIAGENDRx + BMXBMI', groups = 'group', cov_struct = sm.cov_struct.Exchangeable(), data = da)\n",
    "result = model.fit()\n",
    "print(result.summary())\n",
    "print(result.cov_struct.summary())"
   ]
  },
  {
   "cell_type": "markdown",
   "metadata": {},
   "source": [
    "__Q2a.__ What is the ICC for this model?  What can you conclude by comparing it to the ICC for the model that you fit in question 1?"
   ]
  },
  {
   "cell_type": "markdown",
   "metadata": {},
   "source": []
  },
  {
   "cell_type": "markdown",
   "metadata": {},
   "source": [
    "## Question 3: \n",
    "\n",
    "Split the data into separate datasets for females and for males and fit two separate marginal linear models for diastolic blood pressure, one only for females, and one only for males."
   ]
  },
  {
   "cell_type": "code",
   "execution_count": 33,
   "metadata": {},
   "outputs": [
    {
     "name": "stdout",
     "output_type": "stream",
     "text": [
      "                               GEE Regression Results                              \n",
      "===================================================================================\n",
      "Dep. Variable:                      BPXDI1   No. Observations:                 2462\n",
      "Model:                                 GEE   No. clusters:                       30\n",
      "Method:                        Generalized   Min. cluster size:                  38\n",
      "                      Estimating Equations   Max. cluster size:                 111\n",
      "Family:                           Gaussian   Mean cluster size:                82.1\n",
      "Dependence structure:         Exchangeable   Num. iterations:                     7\n",
      "Date:                     Mon, 24 Feb 2020   Scale:                         173.641\n",
      "Covariance type:                    robust   Time:                         15:02:59\n",
      "==============================================================================\n",
      "                 coef    std err          z      P>|z|      [0.025      0.975]\n",
      "------------------------------------------------------------------------------\n",
      "Intercept     66.8949      1.751     38.210      0.000      63.464      70.326\n",
      "RIDAGEYR      -0.0661      0.017     -3.947      0.000      -0.099      -0.033\n",
      "BMXBMI         0.2652      0.055      4.846      0.000       0.158       0.372\n",
      "==============================================================================\n",
      "Skew:                         -0.7533   Kurtosis:                       4.0786\n",
      "Centered skew:                -0.7013   Centered kurtosis:              4.0070\n",
      "==============================================================================\n",
      "                               GEE Regression Results                              \n",
      "===================================================================================\n",
      "Dep. Variable:                      BPXDI1   No. Observations:                 2640\n",
      "Model:                                 GEE   No. clusters:                       30\n",
      "Method:                        Generalized   Min. cluster size:                  59\n",
      "                      Estimating Equations   Max. cluster size:                 125\n",
      "Family:                           Gaussian   Mean cluster size:                88.0\n",
      "Dependence structure:         Exchangeable   Num. iterations:                     8\n",
      "Date:                     Mon, 24 Feb 2020   Scale:                         143.982\n",
      "Covariance type:                    robust   Time:                         15:03:00\n",
      "==============================================================================\n",
      "                 coef    std err          z      P>|z|      [0.025      0.975]\n",
      "------------------------------------------------------------------------------\n",
      "Intercept     65.7505      1.348     48.778      0.000      63.109      68.392\n",
      "RIDAGEYR      -0.0192      0.019     -0.998      0.318      -0.057       0.019\n",
      "BMXBMI         0.1324      0.030      4.374      0.000       0.073       0.192\n",
      "==============================================================================\n",
      "Skew:                         -0.6088   Kurtosis:                       3.6004\n",
      "Centered skew:                -0.5958   Centered kurtosis:              3.6229\n",
      "==============================================================================\n"
     ]
    }
   ],
   "source": [
    "# enter your code here\n",
    "\n",
    "male = da[da['RIAGENDR'] == 1]\n",
    "female = da[da['RIAGENDR'] == 2]\n",
    "\n",
    "\n",
    "model_male = sm.GEE.from_formula('BPXDI1 ~ RIDAGEYR + BMXBMI', groups = 'group', \n",
    "                            cov_struct = sm.cov_struct.Exchangeable(), data = male)\n",
    "result_male = model_male.fit()\n",
    "print(result_male.summary())\n",
    "\n",
    "model_female = sm.GEE.from_formula('BPXDI1 ~ RIDAGEYR + BMXBMI', groups = 'group', \n",
    "                            cov_struct = sm.cov_struct.Exchangeable(), data = female)\n",
    "result_female = model_female.fit()\n",
    "print(result_female.summary())"
   ]
  },
  {
   "cell_type": "markdown",
   "metadata": {},
   "source": [
    "__Q3a.__ What do you learn by comparing these two fitted models?"
   ]
  },
  {
   "cell_type": "markdown",
   "metadata": {},
   "source": []
  },
  {
   "cell_type": "markdown",
   "metadata": {},
   "source": [
    "## Question 4: \n",
    "\n",
    "Using the entire data set, fit a multilevel model for diastolic blood pressure, predicted by age, gender, BMI, and educational attainment.  Include a random intercept for groups."
   ]
  },
  {
   "cell_type": "code",
   "execution_count": 53,
   "metadata": {},
   "outputs": [
    {
     "name": "stderr",
     "output_type": "stream",
     "text": [
      "/opt/conda/lib/python3.6/site-packages/statsmodels/regression/mixed_linear_model.py:2045: ConvergenceWarning: The MLE may be on the boundary of the parameter space.\n",
      "  warnings.warn(msg, ConvergenceWarning)\n"
     ]
    },
    {
     "data": {
      "text/html": [
       "<table class=\"simpletable\">\n",
       "<tr>\n",
       "       <td>Model:</td>       <td>MixedLM</td> <td>Dependent Variable:</td>   <td>BPXDI1</td>   \n",
       "</tr>\n",
       "<tr>\n",
       "  <td>No. Observations:</td>  <td>5100</td>         <td>Method:</td>          <td>REML</td>    \n",
       "</tr>\n",
       "<tr>\n",
       "     <td>No. Groups:</td>      <td>30</td>          <td>Scale:</td>         <td>157.7605</td>  \n",
       "</tr>\n",
       "<tr>\n",
       "  <td>Min. group size:</td>    <td>105</td>       <td>Likelihood:</td>     <td>-20155.7785</td>\n",
       "</tr>\n",
       "<tr>\n",
       "  <td>Max. group size:</td>    <td>226</td>       <td>Converged:</td>          <td>Yes</td>    \n",
       "</tr>\n",
       "<tr>\n",
       "  <td>Mean group size:</td>   <td>170.0</td>           <td></td>                <td></td>      \n",
       "</tr>\n",
       "</table>\n",
       "<table class=\"simpletable\">\n",
       "<tr>\n",
       "              <td></td>              <th>Coef.</th> <th>Std.Err.</th>    <th>z</th>   <th>P>|z|</th> <th>[0.025</th> <th>0.975]</th>\n",
       "</tr>\n",
       "<tr>\n",
       "  <th>Intercept</th>                <td>64.097</td>   <td>0.832</td>  <td>77.029</td> <td>0.000</td> <td>62.466</td> <td>65.727</td>\n",
       "</tr>\n",
       "<tr>\n",
       "  <th>RIAGENDRx[T.Male]</th>         <td>2.819</td>   <td>0.355</td>   <td>7.952</td> <td>0.000</td>  <td>2.124</td>  <td>3.514</td>\n",
       "</tr>\n",
       "<tr>\n",
       "  <th>DMDEDUC2x[T.HS]</th>          <td>-1.481</td>   <td>0.519</td>  <td>-2.853</td> <td>0.004</td> <td>-2.498</td> <td>-0.464</td>\n",
       "</tr>\n",
       "<tr>\n",
       "  <th>DMDEDUC2x[T.SomeCollege]</th> <td>-0.632</td>   <td>0.482</td>  <td>-1.310</td> <td>0.190</td> <td>-1.578</td>  <td>0.313</td>\n",
       "</tr>\n",
       "<tr>\n",
       "  <th>DMDEDUC2x[T.lt9]</th>         <td>-1.339</td>   <td>0.631</td>  <td>-2.124</td> <td>0.034</td> <td>-2.575</td> <td>-0.103</td>\n",
       "</tr>\n",
       "<tr>\n",
       "  <th>DMDEDUC2x[T.x9_11]</th>       <td>-0.528</td>   <td>0.626</td>  <td>-0.843</td> <td>0.399</td> <td>-1.754</td>  <td>0.699</td>\n",
       "</tr>\n",
       "<tr>\n",
       "  <th>age_cen</th>                  <td>-0.033</td>   <td>0.015</td>  <td>-2.189</td> <td>0.029</td> <td>-0.063</td> <td>-0.003</td>\n",
       "</tr>\n",
       "<tr>\n",
       "  <th>BMXBMI</th>                    <td>0.175</td>   <td>0.025</td>   <td>6.865</td> <td>0.000</td>  <td>0.125</td>  <td>0.225</td>\n",
       "</tr>\n",
       "<tr>\n",
       "  <th>age_cen Var</th>               <td>0.004</td>   <td>0.000</td>     <td></td>      <td></td>       <td></td>       <td></td>   \n",
       "</tr>\n",
       "</table>"
      ],
      "text/plain": [
       "<class 'statsmodels.iolib.summary2.Summary'>\n",
       "\"\"\"\n",
       "               Mixed Linear Model Regression Results\n",
       "===================================================================\n",
       "Model:                MixedLM    Dependent Variable:    BPXDI1     \n",
       "No. Observations:     5100       Method:                REML       \n",
       "No. Groups:           30         Scale:                 157.7605   \n",
       "Min. group size:      105        Likelihood:            -20155.7785\n",
       "Max. group size:      226        Converged:             Yes        \n",
       "Mean group size:      170.0                                        \n",
       "-------------------------------------------------------------------\n",
       "                         Coef.  Std.Err.   z    P>|z| [0.025 0.975]\n",
       "-------------------------------------------------------------------\n",
       "Intercept                64.097    0.832 77.029 0.000 62.466 65.727\n",
       "RIAGENDRx[T.Male]         2.819    0.355  7.952 0.000  2.124  3.514\n",
       "DMDEDUC2x[T.HS]          -1.481    0.519 -2.853 0.004 -2.498 -0.464\n",
       "DMDEDUC2x[T.SomeCollege] -0.632    0.482 -1.310 0.190 -1.578  0.313\n",
       "DMDEDUC2x[T.lt9]         -1.339    0.631 -2.124 0.034 -2.575 -0.103\n",
       "DMDEDUC2x[T.x9_11]       -0.528    0.626 -0.843 0.399 -1.754  0.699\n",
       "age_cen                  -0.033    0.015 -2.189 0.029 -0.063 -0.003\n",
       "BMXBMI                    0.175    0.025  6.865 0.000  0.125  0.225\n",
       "age_cen Var               0.004    0.000                           \n",
       "===================================================================\n",
       "\n",
       "\"\"\""
      ]
     },
     "execution_count": 53,
     "metadata": {},
     "output_type": "execute_result"
    }
   ],
   "source": [
    "# enter your code here\n",
    "\n",
    "da[\"DMDEDUC2x\"] = da.DMDEDUC2.replace({1: \"lt9\", 2: \"x9_11\", 3: \"HS\", 4: \"SomeCollege\",\n",
    "                                       5: \"College\", 7: np.nan, 9: np.nan})\n",
    "\n",
    "da['age_cen'] = da.groupby('group')['RIDAGEYR'].apply(lambda x : x - x.mean())\n",
    "\n",
    "da = da.dropna()\n",
    "\n",
    "model = sm.MixedLM.from_formula('BPXDI1 ~ age_cen + RIAGENDRx + BMXBMI + DMDEDUC2x', groups = 'group', \n",
    "                            re_formula = \"0 + age_cen\", data = da)\n",
    "result = model.fit()\n",
    "result.summary()"
   ]
  },
  {
   "cell_type": "markdown",
   "metadata": {},
   "source": [
    "__Q4a.__ How would you describe the strength of the clustering in this analysis?"
   ]
  },
  {
   "cell_type": "markdown",
   "metadata": {},
   "source": []
  },
  {
   "cell_type": "markdown",
   "metadata": {},
   "source": [
    "__Q4b:__ Include a random intercept for age, and describe your findings."
   ]
  },
  {
   "cell_type": "markdown",
   "metadata": {},
   "source": []
  }
 ],
 "metadata": {
  "kernelspec": {
   "display_name": "Python 3",
   "language": "python",
   "name": "python3"
  },
  "language_info": {
   "codemirror_mode": {
    "name": "ipython",
    "version": 3
   },
   "file_extension": ".py",
   "mimetype": "text/x-python",
   "name": "python",
   "nbconvert_exporter": "python",
   "pygments_lexer": "ipython3",
   "version": "3.6.3"
  }
 },
 "nbformat": 4,
 "nbformat_minor": 1
}
